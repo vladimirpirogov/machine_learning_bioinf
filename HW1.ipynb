{
 "cells": [
  {
   "cell_type": "markdown",
   "metadata": {},
   "source": [
    "## Загрузка библиотек"
   ]
  },
  {
   "cell_type": "code",
   "execution_count": 343,
   "metadata": {},
   "outputs": [],
   "source": [
    "import pandas as pd\n",
    "import matplotlib.pyplot as plt\n",
    "import random"
   ]
  },
  {
   "cell_type": "markdown",
   "metadata": {},
   "source": [
    "## Загрузка данных"
   ]
  },
  {
   "cell_type": "markdown",
   "metadata": {},
   "source": [
    "### Задание 1 (0.5 балла)\n",
    "\n",
    "Для начала работы нам необходимо научиться читать набор данных. В данном домашнем задании мы поработаем с двумя наборами данных.\n",
    "\n",
    "__covid.csv__ ([источник](https://www.kaggle.com/gpreda/covid-world-vaccination-progress)) - статистика по вакцинированию от COVID19 по разным странам. Для данного датасета нет конкретной предсказательной переменной.\n",
    "\n",
    "__hr.csv__ ([источник](https://www.kaggle.com/arashnic/hr-analytics-job-change-of-data-scientists)) - набор данных большего размера. Он содержит статистику по людям, проходящим курсы по Big Data & ML. _Target_ - 1 или 0, сменил ли человек работу после прохождения курсов - или нет.\n",
    "\n",
    "Реализуйте методы `read_covid_dataset` и `read_hr_dataset`. Каждый из них принимает на вход путь к набору данных и возвращает выборку `X` и соответствующие метки `y`. В случае _covid_ датасета `y` возвращается как `None`. "
   ]
  },
  {
   "cell_type": "code",
   "execution_count": 344,
   "metadata": {},
   "outputs": [],
   "source": [
    "def read_covid_dataset(path_to_csv):\n",
    "    df = pd.read_csv(\"hw1_data/covid.csv\", sep=\",\",  header = 0) # , decimal ='.')\n",
    "    X = df\n",
    "    y = None\n",
    "    # Возвращает пару из X и y. X - массив векторов. y - соответствующие векторам метки\n",
    "    return X, y\n",
    "\n",
    "\n",
    "def read_hr_dataset(path_to_csv):\n",
    "    df = pd.read_csv(\"hw1_data/hr.csv\", sep=\",\",  header = 0, decimal ='.')\n",
    "    X = df[df.columns.difference(['target'])]\n",
    "    y = df['target']\n",
    "    return X, y"
   ]
  },
  {
   "cell_type": "code",
   "execution_count": 345,
   "metadata": {},
   "outputs": [],
   "source": [
    "COVID_DATA_PATH = \"hw1_data/covid.csv\"\n",
    "HR_DATA_PATH = \"hw1_data/hr.csv\""
   ]
  },
  {
   "cell_type": "code",
   "execution_count": 346,
   "metadata": {},
   "outputs": [],
   "source": [
    "X_covid, _ = read_covid_dataset(COVID_DATA_PATH)\n",
    "X_hr, y_hr = read_hr_dataset(HR_DATA_PATH)"
   ]
  },
  {
   "cell_type": "markdown",
   "metadata": {},
   "source": [
    "## EDA"
   ]
  },
  {
   "cell_type": "markdown",
   "metadata": {},
   "source": [
    "### Задание 2 (3.5 балла)\n",
    "\n",
    "Выполните задание для датасетa _hr_.\n",
    "\n",
    "Для дальнейшей работы с данными нужно обработать пропущенные значения в датасете.\n",
    "Существуют различные стратегии обработки пропущенных данных."
   ]
  },
  {
   "cell_type": "markdown",
   "metadata": {},
   "source": [
    "#### 1.  (0.5 балла)\n",
    "\n",
    "Для числовых признаков постройте распределения признаков. Для категориальных признаков выведите статистику по количеству значений признака. Отметим, что у нас три численных признака (city_development_index, enrollee_id, training_hours). Однако enrollee_id не имеет смысла в качестве числового признака, так как показывает номер города. Его график приведен ниже, что ещё раз доказывает, что это не является числовым признаком."
   ]
  },
  {
   "cell_type": "code",
   "execution_count": 347,
   "metadata": {},
   "outputs": [
    {
     "data": {
      "text/html": [
       "<div>\n",
       "<style scoped>\n",
       "    .dataframe tbody tr th:only-of-type {\n",
       "        vertical-align: middle;\n",
       "    }\n",
       "\n",
       "    .dataframe tbody tr th {\n",
       "        vertical-align: top;\n",
       "    }\n",
       "\n",
       "    .dataframe thead th {\n",
       "        text-align: right;\n",
       "    }\n",
       "</style>\n",
       "<table border=\"1\" class=\"dataframe\">\n",
       "  <thead>\n",
       "    <tr style=\"text-align: right;\">\n",
       "      <th></th>\n",
       "      <th>city</th>\n",
       "      <th>city_development_index</th>\n",
       "      <th>company_size</th>\n",
       "      <th>company_type</th>\n",
       "      <th>education_level</th>\n",
       "      <th>enrolled_university</th>\n",
       "      <th>enrollee_id</th>\n",
       "      <th>experience</th>\n",
       "      <th>gender</th>\n",
       "      <th>last_new_job</th>\n",
       "      <th>major_discipline</th>\n",
       "      <th>relevent_experience</th>\n",
       "      <th>training_hours</th>\n",
       "    </tr>\n",
       "  </thead>\n",
       "  <tbody>\n",
       "    <tr>\n",
       "      <td>0</td>\n",
       "      <td>city_103</td>\n",
       "      <td>0.920</td>\n",
       "      <td>NaN</td>\n",
       "      <td>NaN</td>\n",
       "      <td>Graduate</td>\n",
       "      <td>no_enrollment</td>\n",
       "      <td>8949</td>\n",
       "      <td>&gt;20</td>\n",
       "      <td>Male</td>\n",
       "      <td>1</td>\n",
       "      <td>STEM</td>\n",
       "      <td>Has relevent experience</td>\n",
       "      <td>36</td>\n",
       "    </tr>\n",
       "    <tr>\n",
       "      <td>1</td>\n",
       "      <td>city_40</td>\n",
       "      <td>0.776</td>\n",
       "      <td>50-99</td>\n",
       "      <td>Pvt Ltd</td>\n",
       "      <td>Graduate</td>\n",
       "      <td>no_enrollment</td>\n",
       "      <td>29725</td>\n",
       "      <td>15</td>\n",
       "      <td>Male</td>\n",
       "      <td>&gt;4</td>\n",
       "      <td>STEM</td>\n",
       "      <td>No relevent experience</td>\n",
       "      <td>47</td>\n",
       "    </tr>\n",
       "    <tr>\n",
       "      <td>2</td>\n",
       "      <td>city_21</td>\n",
       "      <td>0.624</td>\n",
       "      <td>NaN</td>\n",
       "      <td>NaN</td>\n",
       "      <td>Graduate</td>\n",
       "      <td>Full time course</td>\n",
       "      <td>11561</td>\n",
       "      <td>5</td>\n",
       "      <td>NaN</td>\n",
       "      <td>never</td>\n",
       "      <td>STEM</td>\n",
       "      <td>No relevent experience</td>\n",
       "      <td>83</td>\n",
       "    </tr>\n",
       "    <tr>\n",
       "      <td>3</td>\n",
       "      <td>city_115</td>\n",
       "      <td>0.789</td>\n",
       "      <td>NaN</td>\n",
       "      <td>Pvt Ltd</td>\n",
       "      <td>Graduate</td>\n",
       "      <td>NaN</td>\n",
       "      <td>33241</td>\n",
       "      <td>&lt;1</td>\n",
       "      <td>NaN</td>\n",
       "      <td>never</td>\n",
       "      <td>Business Degree</td>\n",
       "      <td>No relevent experience</td>\n",
       "      <td>52</td>\n",
       "    </tr>\n",
       "    <tr>\n",
       "      <td>4</td>\n",
       "      <td>city_162</td>\n",
       "      <td>0.767</td>\n",
       "      <td>50-99</td>\n",
       "      <td>Funded Startup</td>\n",
       "      <td>Masters</td>\n",
       "      <td>no_enrollment</td>\n",
       "      <td>666</td>\n",
       "      <td>&gt;20</td>\n",
       "      <td>Male</td>\n",
       "      <td>4</td>\n",
       "      <td>STEM</td>\n",
       "      <td>Has relevent experience</td>\n",
       "      <td>8</td>\n",
       "    </tr>\n",
       "    <tr>\n",
       "      <td>5</td>\n",
       "      <td>city_176</td>\n",
       "      <td>0.764</td>\n",
       "      <td>NaN</td>\n",
       "      <td>NaN</td>\n",
       "      <td>Graduate</td>\n",
       "      <td>Part time course</td>\n",
       "      <td>21651</td>\n",
       "      <td>11</td>\n",
       "      <td>NaN</td>\n",
       "      <td>1</td>\n",
       "      <td>STEM</td>\n",
       "      <td>Has relevent experience</td>\n",
       "      <td>24</td>\n",
       "    </tr>\n",
       "    <tr>\n",
       "      <td>6</td>\n",
       "      <td>city_160</td>\n",
       "      <td>0.920</td>\n",
       "      <td>50-99</td>\n",
       "      <td>Funded Startup</td>\n",
       "      <td>High School</td>\n",
       "      <td>no_enrollment</td>\n",
       "      <td>28806</td>\n",
       "      <td>5</td>\n",
       "      <td>Male</td>\n",
       "      <td>1</td>\n",
       "      <td>NaN</td>\n",
       "      <td>Has relevent experience</td>\n",
       "      <td>24</td>\n",
       "    </tr>\n",
       "    <tr>\n",
       "      <td>7</td>\n",
       "      <td>city_46</td>\n",
       "      <td>0.762</td>\n",
       "      <td>&lt;10</td>\n",
       "      <td>Pvt Ltd</td>\n",
       "      <td>Graduate</td>\n",
       "      <td>no_enrollment</td>\n",
       "      <td>402</td>\n",
       "      <td>13</td>\n",
       "      <td>Male</td>\n",
       "      <td>&gt;4</td>\n",
       "      <td>STEM</td>\n",
       "      <td>Has relevent experience</td>\n",
       "      <td>18</td>\n",
       "    </tr>\n",
       "    <tr>\n",
       "      <td>8</td>\n",
       "      <td>city_103</td>\n",
       "      <td>0.920</td>\n",
       "      <td>50-99</td>\n",
       "      <td>Pvt Ltd</td>\n",
       "      <td>Graduate</td>\n",
       "      <td>no_enrollment</td>\n",
       "      <td>27107</td>\n",
       "      <td>7</td>\n",
       "      <td>Male</td>\n",
       "      <td>1</td>\n",
       "      <td>STEM</td>\n",
       "      <td>Has relevent experience</td>\n",
       "      <td>46</td>\n",
       "    </tr>\n",
       "    <tr>\n",
       "      <td>9</td>\n",
       "      <td>city_103</td>\n",
       "      <td>0.920</td>\n",
       "      <td>10000+</td>\n",
       "      <td>Pvt Ltd</td>\n",
       "      <td>Graduate</td>\n",
       "      <td>no_enrollment</td>\n",
       "      <td>699</td>\n",
       "      <td>17</td>\n",
       "      <td>NaN</td>\n",
       "      <td>&gt;4</td>\n",
       "      <td>STEM</td>\n",
       "      <td>Has relevent experience</td>\n",
       "      <td>123</td>\n",
       "    </tr>\n",
       "  </tbody>\n",
       "</table>\n",
       "</div>"
      ],
      "text/plain": [
       "       city  city_development_index company_size    company_type  \\\n",
       "0  city_103                   0.920          NaN             NaN   \n",
       "1   city_40                   0.776        50-99         Pvt Ltd   \n",
       "2   city_21                   0.624          NaN             NaN   \n",
       "3  city_115                   0.789          NaN         Pvt Ltd   \n",
       "4  city_162                   0.767        50-99  Funded Startup   \n",
       "5  city_176                   0.764          NaN             NaN   \n",
       "6  city_160                   0.920        50-99  Funded Startup   \n",
       "7   city_46                   0.762          <10         Pvt Ltd   \n",
       "8  city_103                   0.920        50-99         Pvt Ltd   \n",
       "9  city_103                   0.920       10000+         Pvt Ltd   \n",
       "\n",
       "  education_level enrolled_university  enrollee_id experience gender  \\\n",
       "0        Graduate       no_enrollment         8949        >20   Male   \n",
       "1        Graduate       no_enrollment        29725         15   Male   \n",
       "2        Graduate    Full time course        11561          5    NaN   \n",
       "3        Graduate                 NaN        33241         <1    NaN   \n",
       "4         Masters       no_enrollment          666        >20   Male   \n",
       "5        Graduate    Part time course        21651         11    NaN   \n",
       "6     High School       no_enrollment        28806          5   Male   \n",
       "7        Graduate       no_enrollment          402         13   Male   \n",
       "8        Graduate       no_enrollment        27107          7   Male   \n",
       "9        Graduate       no_enrollment          699         17    NaN   \n",
       "\n",
       "  last_new_job major_discipline      relevent_experience  training_hours  \n",
       "0            1             STEM  Has relevent experience              36  \n",
       "1           >4             STEM   No relevent experience              47  \n",
       "2        never             STEM   No relevent experience              83  \n",
       "3        never  Business Degree   No relevent experience              52  \n",
       "4            4             STEM  Has relevent experience               8  \n",
       "5            1             STEM  Has relevent experience              24  \n",
       "6            1              NaN  Has relevent experience              24  \n",
       "7           >4             STEM  Has relevent experience              18  \n",
       "8            1             STEM  Has relevent experience              46  \n",
       "9           >4             STEM  Has relevent experience             123  "
      ]
     },
     "execution_count": 347,
     "metadata": {},
     "output_type": "execute_result"
    }
   ],
   "source": [
    "X_hr.head(10)"
   ]
  },
  {
   "cell_type": "code",
   "execution_count": 348,
   "metadata": {},
   "outputs": [
    {
     "data": {
      "text/plain": [
       "array([[<matplotlib.axes._subplots.AxesSubplot object at 0x7fdcf049f890>,\n",
       "        <matplotlib.axes._subplots.AxesSubplot object at 0x7fdcf0482a50>],\n",
       "       [<matplotlib.axes._subplots.AxesSubplot object at 0x7fdcce419350>,\n",
       "        <matplotlib.axes._subplots.AxesSubplot object at 0x7fdcefbba5d0>]],\n",
       "      dtype=object)"
      ]
     },
     "execution_count": 348,
     "metadata": {},
     "output_type": "execute_result"
    },
    {
     "data": {
      "image/png": "[encoded data removed]",
      "text/plain": [
       "<Figure size 432x288 with 4 Axes>"
      ]
     },
     "metadata": {
      "needs_background": "light"
     },
     "output_type": "display_data"
    }
   ],
   "source": [
    "X_hr['city_development_index'] = pd.to_numeric(X_hr['city_development_index'])\n",
    "X_hr[['city_development_index', 'enrollee_id', 'training_hours']].hist(bins=40)"
   ]
  },
  {
   "cell_type": "markdown",
   "metadata": {},
   "source": [
    "Описательные численные характеристики численных признаков"
   ]
  },
  {
   "cell_type": "code",
   "execution_count": 349,
   "metadata": {},
   "outputs": [
    {
     "data": {
      "text/html": [
       "<div>\n",
       "<style scoped>\n",
       "    .dataframe tbody tr th:only-of-type {\n",
       "        vertical-align: middle;\n",
       "    }\n",
       "\n",
       "    .dataframe tbody tr th {\n",
       "        vertical-align: top;\n",
       "    }\n",
       "\n",
       "    .dataframe thead th {\n",
       "        text-align: right;\n",
       "    }\n",
       "</style>\n",
       "<table border=\"1\" class=\"dataframe\">\n",
       "  <thead>\n",
       "    <tr style=\"text-align: right;\">\n",
       "      <th></th>\n",
       "      <th>city_development_index</th>\n",
       "      <th>training_hours</th>\n",
       "    </tr>\n",
       "  </thead>\n",
       "  <tbody>\n",
       "    <tr>\n",
       "      <td>count</td>\n",
       "      <td>19158.000000</td>\n",
       "      <td>19158.000000</td>\n",
       "    </tr>\n",
       "    <tr>\n",
       "      <td>mean</td>\n",
       "      <td>0.828848</td>\n",
       "      <td>65.366896</td>\n",
       "    </tr>\n",
       "    <tr>\n",
       "      <td>std</td>\n",
       "      <td>0.123362</td>\n",
       "      <td>60.058462</td>\n",
       "    </tr>\n",
       "    <tr>\n",
       "      <td>min</td>\n",
       "      <td>0.448000</td>\n",
       "      <td>1.000000</td>\n",
       "    </tr>\n",
       "    <tr>\n",
       "      <td>25%</td>\n",
       "      <td>0.740000</td>\n",
       "      <td>23.000000</td>\n",
       "    </tr>\n",
       "    <tr>\n",
       "      <td>50%</td>\n",
       "      <td>0.903000</td>\n",
       "      <td>47.000000</td>\n",
       "    </tr>\n",
       "    <tr>\n",
       "      <td>75%</td>\n",
       "      <td>0.920000</td>\n",
       "      <td>88.000000</td>\n",
       "    </tr>\n",
       "    <tr>\n",
       "      <td>max</td>\n",
       "      <td>0.949000</td>\n",
       "      <td>336.000000</td>\n",
       "    </tr>\n",
       "  </tbody>\n",
       "</table>\n",
       "</div>"
      ],
      "text/plain": [
       "       city_development_index  training_hours\n",
       "count            19158.000000    19158.000000\n",
       "mean                 0.828848       65.366896\n",
       "std                  0.123362       60.058462\n",
       "min                  0.448000        1.000000\n",
       "25%                  0.740000       23.000000\n",
       "50%                  0.903000       47.000000\n",
       "75%                  0.920000       88.000000\n",
       "max                  0.949000      336.000000"
      ]
     },
     "execution_count": 349,
     "metadata": {},
     "output_type": "execute_result"
    }
   ],
   "source": [
    "X_hr[X_hr.columns.difference(['enrollee_id'])].describe()"
   ]
  },
  {
   "cell_type": "markdown",
   "metadata": {},
   "source": [
    "Статистика для категориальных признаков"
   ]
  },
  {
   "cell_type": "code",
   "execution_count": 350,
   "metadata": {},
   "outputs": [
    {
     "name": "stdout",
     "output_type": "stream",
     "text": [
      "city_103    4355\n",
      "city_21     2702\n",
      "city_16     1533\n",
      "city_114    1336\n",
      "city_160     845\n",
      "            ... \n",
      "city_129       3\n",
      "city_111       3\n",
      "city_121       3\n",
      "city_140       1\n",
      "city_171       1\n",
      "Name: city, Length: 123, dtype: int64\n",
      "50-99        3083\n",
      "100-500      2571\n",
      "10000+       2019\n",
      "10/49        1471\n",
      "1000-4999    1328\n",
      "<10          1308\n",
      "500-999       877\n",
      "5000-9999     563\n",
      "Name: company_size, dtype: int64\n",
      "Pvt Ltd                9817\n",
      "Funded Startup         1001\n",
      "Public Sector           955\n",
      "Early Stage Startup     603\n",
      "NGO                     521\n",
      "Other                   121\n",
      "Name: company_type, dtype: int64\n",
      "Graduate          11598\n",
      "Masters            4361\n",
      "High School        2017\n",
      "Phd                 414\n",
      "Primary School      308\n",
      "Name: education_level, dtype: int64\n",
      "no_enrollment       13817\n",
      "Full time course     3757\n",
      "Part time course     1198\n",
      "Name: enrolled_university, dtype: int64\n",
      ">20    3286\n",
      "5      1430\n",
      "4      1403\n",
      "3      1354\n",
      "6      1216\n",
      "2      1127\n",
      "7      1028\n",
      "10      985\n",
      "9       980\n",
      "8       802\n",
      "15      686\n",
      "11      664\n",
      "14      586\n",
      "1       549\n",
      "<1      522\n",
      "16      508\n",
      "12      494\n",
      "13      399\n",
      "17      342\n",
      "19      304\n",
      "18      280\n",
      "20      148\n",
      "Name: experience, dtype: int64\n",
      "Male      13221\n",
      "Female     1238\n",
      "Other       191\n",
      "Name: gender, dtype: int64\n",
      "1        8040\n",
      ">4       3290\n",
      "2        2900\n",
      "never    2452\n",
      "4        1029\n",
      "3        1024\n",
      "Name: last_new_job, dtype: int64\n",
      "STEM               14492\n",
      "Humanities           669\n",
      "Other                381\n",
      "Business Degree      327\n",
      "Arts                 253\n",
      "No Major             223\n",
      "Name: major_discipline, dtype: int64\n",
      "Has relevent experience    13792\n",
      "No relevent experience      5366\n",
      "Name: relevent_experience, dtype: int64\n"
     ]
    }
   ],
   "source": [
    "for i in X_hr[X_hr.columns.difference(['city_development_index', 'enrollee_id', 'training_hours'])].columns: \n",
    "    print(X_hr[i].value_counts())"
   ]
  },
  {
   "cell_type": "markdown",
   "metadata": {},
   "source": [
    "#### 2.  (0.5 балла)\n",
    "Удалите все строки, где есть хотя бы одно пропущенное значение признака. Насколько сильно уменьшился размер датасета? Как изменились распределения признаков/статистика по количеству значений признаков?"
   ]
  },
  {
   "cell_type": "code",
   "execution_count": 351,
   "metadata": {},
   "outputs": [
    {
     "name": "stdout",
     "output_type": "stream",
     "text": [
      "Исходный размер датасета hr 19158\n"
     ]
    }
   ],
   "source": [
    "print(f'Исходный размер датасета hr {len(X_hr)}')"
   ]
  },
  {
   "cell_type": "code",
   "execution_count": 352,
   "metadata": {},
   "outputs": [
    {
     "name": "stdout",
     "output_type": "stream",
     "text": [
      "Pазмер датасета hr без NaN 8955\n"
     ]
    }
   ],
   "source": [
    "X_hr_dropna = X_hr.dropna()\n",
    "print(f'Pазмер датасета hr без NaN {len(X_hr_dropna)}')"
   ]
  },
  {
   "cell_type": "code",
   "execution_count": 353,
   "metadata": {},
   "outputs": [
    {
     "name": "stdout",
     "output_type": "stream",
     "text": [
      "Pазмер датасета covid без NaN 2418\n"
     ]
    }
   ],
   "source": [
    "print(f'Pазмер датасета covid без NaN {len(X_covid)}')"
   ]
  },
  {
   "cell_type": "markdown",
   "metadata": {},
   "source": [
    "Изменение распределений признаков\n",
    "\n",
    "Численные переменные:"
   ]
  },
  {
   "cell_type": "code",
   "execution_count": 354,
   "metadata": {},
   "outputs": [
    {
     "data": {
      "text/plain": [
       "array([[<matplotlib.axes._subplots.AxesSubplot object at 0x7fdcd00d8410>,\n",
       "        <matplotlib.axes._subplots.AxesSubplot object at 0x7fdcef4caf90>],\n",
       "       [<matplotlib.axes._subplots.AxesSubplot object at 0x7fdcce4b9e90>,\n",
       "        <matplotlib.axes._subplots.AxesSubplot object at 0x7fdcceb661d0>]],\n",
       "      dtype=object)"
      ]
     },
     "execution_count": 354,
     "metadata": {},
     "output_type": "execute_result"
    },
    {
     "data": {
      "image/png": "[encoded data removed]",
      "text/plain": [
       "<Figure size 432x288 with 4 Axes>"
      ]
     },
     "metadata": {
      "needs_background": "light"
     },
     "output_type": "display_data"
    }
   ],
   "source": [
    "X_hr_dropna[['city_development_index', 'enrollee_id', 'training_hours']].hist(bins=40)"
   ]
  },
  {
   "cell_type": "markdown",
   "metadata": {},
   "source": [
    "Описательные численные характеристики численных признаков"
   ]
  },
  {
   "cell_type": "code",
   "execution_count": 355,
   "metadata": {},
   "outputs": [
    {
     "data": {
      "text/html": [
       "<div>\n",
       "<style scoped>\n",
       "    .dataframe tbody tr th:only-of-type {\n",
       "        vertical-align: middle;\n",
       "    }\n",
       "\n",
       "    .dataframe tbody tr th {\n",
       "        vertical-align: top;\n",
       "    }\n",
       "\n",
       "    .dataframe thead th {\n",
       "        text-align: right;\n",
       "    }\n",
       "</style>\n",
       "<table border=\"1\" class=\"dataframe\">\n",
       "  <thead>\n",
       "    <tr style=\"text-align: right;\">\n",
       "      <th></th>\n",
       "      <th>city_development_index</th>\n",
       "      <th>training_hours</th>\n",
       "    </tr>\n",
       "  </thead>\n",
       "  <tbody>\n",
       "    <tr>\n",
       "      <td>count</td>\n",
       "      <td>8955.000000</td>\n",
       "      <td>8955.000000</td>\n",
       "    </tr>\n",
       "    <tr>\n",
       "      <td>mean</td>\n",
       "      <td>0.844570</td>\n",
       "      <td>65.074930</td>\n",
       "    </tr>\n",
       "    <tr>\n",
       "      <td>std</td>\n",
       "      <td>0.116178</td>\n",
       "      <td>60.235087</td>\n",
       "    </tr>\n",
       "    <tr>\n",
       "      <td>min</td>\n",
       "      <td>0.448000</td>\n",
       "      <td>1.000000</td>\n",
       "    </tr>\n",
       "    <tr>\n",
       "      <td>25%</td>\n",
       "      <td>0.794000</td>\n",
       "      <td>23.000000</td>\n",
       "    </tr>\n",
       "    <tr>\n",
       "      <td>50%</td>\n",
       "      <td>0.910000</td>\n",
       "      <td>47.000000</td>\n",
       "    </tr>\n",
       "    <tr>\n",
       "      <td>75%</td>\n",
       "      <td>0.920000</td>\n",
       "      <td>88.000000</td>\n",
       "    </tr>\n",
       "    <tr>\n",
       "      <td>max</td>\n",
       "      <td>0.949000</td>\n",
       "      <td>336.000000</td>\n",
       "    </tr>\n",
       "  </tbody>\n",
       "</table>\n",
       "</div>"
      ],
      "text/plain": [
       "       city_development_index  training_hours\n",
       "count             8955.000000     8955.000000\n",
       "mean                 0.844570       65.074930\n",
       "std                  0.116178       60.235087\n",
       "min                  0.448000        1.000000\n",
       "25%                  0.794000       23.000000\n",
       "50%                  0.910000       47.000000\n",
       "75%                  0.920000       88.000000\n",
       "max                  0.949000      336.000000"
      ]
     },
     "execution_count": 355,
     "metadata": {},
     "output_type": "execute_result"
    }
   ],
   "source": [
    "X_hr_dropna[X_hr_dropna.columns.difference(['enrollee_id'])].describe()"
   ]
  },
  {
   "cell_type": "markdown",
   "metadata": {},
   "source": [
    "Отмечу, что изменения по отношению к изначальному датасету незначительные\n",
    "\n",
    "Изменения по количеству признаков следующие:"
   ]
  },
  {
   "cell_type": "code",
   "execution_count": 356,
   "metadata": {},
   "outputs": [
    {
     "name": "stdout",
     "output_type": "stream",
     "text": [
      "До изменений\n",
      "city_1       26\n",
      "city_10      86\n",
      "city_100    275\n",
      "city_101     75\n",
      "city_102    304\n",
      "           ... \n",
      "city_93      26\n",
      "city_94      26\n",
      "city_97     104\n",
      "city_98      79\n",
      "city_99      94\n",
      "Name: city, Length: 123, dtype: int64\n",
      "После\n",
      "city_1       13\n",
      "city_10      52\n",
      "city_100     82\n",
      "city_101     24\n",
      "city_102    126\n",
      "           ... \n",
      "city_93      10\n",
      "city_94      10\n",
      "city_97      50\n",
      "city_98      41\n",
      "city_99      47\n",
      "Name: city, Length: 116, dtype: int64\n",
      "До изменений\n",
      "10/49        1471\n",
      "100-500      2571\n",
      "1000-4999    1328\n",
      "10000+       2019\n",
      "50-99        3083\n",
      "500-999       877\n",
      "5000-9999     563\n",
      "<10          1308\n",
      "Name: company_size, dtype: int64\n",
      "После\n",
      "10/49         951\n",
      "100-500      1814\n",
      "1000-4999     930\n",
      "10000+       1449\n",
      "50-99        1986\n",
      "500-999       592\n",
      "5000-9999     393\n",
      "<10           840\n",
      "Name: company_size, dtype: int64\n",
      "До изменений\n",
      "Early Stage Startup     603\n",
      "Funded Startup         1001\n",
      "NGO                     521\n",
      "Other                   121\n",
      "Public Sector           955\n",
      "Pvt Ltd                9817\n",
      "Name: company_type, dtype: int64\n",
      "После\n",
      "Early Stage Startup     385\n",
      "Funded Startup          784\n",
      "NGO                     356\n",
      "Other                    72\n",
      "Public Sector           564\n",
      "Pvt Ltd                6794\n",
      "Name: company_type, dtype: int64\n",
      "До изменений\n",
      "Graduate          11598\n",
      "High School        2017\n",
      "Masters            4361\n",
      "Phd                 414\n",
      "Primary School      308\n",
      "Name: education_level, dtype: int64\n",
      "После\n",
      "Graduate    6252\n",
      "Masters     2449\n",
      "Phd          254\n",
      "Name: education_level, dtype: int64\n",
      "До изменений\n",
      "Full time course     3757\n",
      "Part time course     1198\n",
      "no_enrollment       13817\n",
      "Name: enrolled_university, dtype: int64\n",
      "После\n",
      "Full time course     832\n",
      "Part time course     529\n",
      "no_enrollment       7594\n",
      "Name: enrolled_university, dtype: int64\n",
      "До изменений\n",
      "1       549\n",
      "10      985\n",
      "11      664\n",
      "12      494\n",
      "13      399\n",
      "14      586\n",
      "15      686\n",
      "16      508\n",
      "17      342\n",
      "18      280\n",
      "19      304\n",
      "2      1127\n",
      "20      148\n",
      "3      1354\n",
      "4      1403\n",
      "5      1430\n",
      "6      1216\n",
      "7      1028\n",
      "8       802\n",
      "9       980\n",
      "<1      522\n",
      ">20    3286\n",
      "Name: experience, dtype: int64\n",
      "После\n",
      "1       121\n",
      "10      551\n",
      "11      372\n",
      "12      293\n",
      "13      235\n",
      "14      333\n",
      "15      398\n",
      "16      304\n",
      "17      206\n",
      "18      168\n",
      "19      179\n",
      "2       297\n",
      "20       86\n",
      "3       428\n",
      "4       480\n",
      "5       575\n",
      "6       535\n",
      "7       485\n",
      "8       398\n",
      "9       533\n",
      "<1       97\n",
      ">20    1881\n",
      "Name: experience, dtype: int64\n",
      "До изменений\n",
      "Female     1238\n",
      "Male      13221\n",
      "Other       191\n",
      "Name: gender, dtype: int64\n",
      "После\n",
      "Female     804\n",
      "Male      8073\n",
      "Other       78\n",
      "Name: gender, dtype: int64\n",
      "До изменений\n",
      "1        8040\n",
      "2        2900\n",
      "3        1024\n",
      "4        1029\n",
      ">4       3290\n",
      "never    2452\n",
      "Name: last_new_job, dtype: int64\n",
      "После\n",
      "1        3838\n",
      "2        1570\n",
      "3         610\n",
      "4         599\n",
      ">4       1965\n",
      "never     373\n",
      "Name: last_new_job, dtype: int64\n",
      "До изменений\n",
      "Arts                 253\n",
      "Business Degree      327\n",
      "Humanities           669\n",
      "No Major             223\n",
      "Other                381\n",
      "STEM               14492\n",
      "Name: major_discipline, dtype: int64\n",
      "После\n",
      "Arts                129\n",
      "Business Degree     170\n",
      "Humanities          378\n",
      "No Major            112\n",
      "Other               177\n",
      "STEM               7989\n",
      "Name: major_discipline, dtype: int64\n",
      "До изменений\n",
      "Has relevent experience    13792\n",
      "No relevent experience      5366\n",
      "Name: relevent_experience, dtype: int64\n",
      "После\n",
      "Has relevent experience    7851\n",
      "No relevent experience     1104\n",
      "Name: relevent_experience, dtype: int64\n"
     ]
    }
   ],
   "source": [
    "for i in X_hr[X_hr.columns.difference(['city_development_index', 'enrollee_id', 'training_hours'])].columns:\n",
    "    print('До изменений')\n",
    "    print(X_hr[i].value_counts().sort_index())\n",
    "    print('После')\n",
    "    print(X_hr_dropna[i].value_counts().sort_index())"
   ]
  },
  {
   "cell_type": "markdown",
   "metadata": {},
   "source": [
    "После удаления строк потерялись все записи с уровнями образования High School и Primary School. К тому же потерялись записи о некоторых городах. Таким образом необходимо как-то иначе удалять пропушенные значения. \n",
    "\n",
    "\n",
    "Давайте попробуем избежать сокращения размера датасета."
   ]
  },
  {
   "cell_type": "markdown",
   "metadata": {},
   "source": [
    "#### 3.  (1 балл)\n",
    "Для числовых признаков заполните пропущенные данные средним/медианой/модой данного признака. Объясните свой выбор. (Часть строк с NaN значениями можно удалить, если размер датасета уменьшится <15%)\n",
    "\n",
    "Проверим количество пропущенных значений:"
   ]
  },
  {
   "cell_type": "code",
   "execution_count": 357,
   "metadata": {},
   "outputs": [
    {
     "name": "stdout",
     "output_type": "stream",
     "text": [
      "Количество пропущенных значений в столбце city_development_index = 0\n",
      "Количество пропущенных значений в столбце training_hours = 0\n"
     ]
    }
   ],
   "source": [
    "print('Количество пропущенных значений в столбце city_development_index = '+ str(X_hr['city_development_index'].isna().sum()))\n",
    "print('Количество пропущенных значений в столбце training_hours = '+ str(X_hr['training_hours'].isna().sum()))"
   ]
  },
  {
   "cell_type": "markdown",
   "metadata": {},
   "source": [
    "Как оказалось пропущенных значений нет, а следовательно и не нужно ничего заполнять. "
   ]
  },
  {
   "cell_type": "markdown",
   "metadata": {},
   "source": [
    "#### 4.  (1 балл)\n",
    "Для категориальных признаков заполните пропущенные значения самой встречающейся категорией или создайте отдельную категорию пропущенных значений. Объясните свой выбор. (Часть строк с NaN значениями можно удалить, если размер датасета уменьшится <15%)\n",
    "\n",
    "\n",
    "Проверим наш столбец цель на количество пропущенных значений:\n"
   ]
  },
  {
   "cell_type": "code",
   "execution_count": 358,
   "metadata": {},
   "outputs": [
    {
     "data": {
      "text/plain": [
       "0"
      ]
     },
     "execution_count": 358,
     "metadata": {},
     "output_type": "execute_result"
    }
   ],
   "source": [
    "y_hr.isna().sum()"
   ]
  },
  {
   "cell_type": "markdown",
   "metadata": {},
   "source": [
    "пропущенных значений в столбце цель нет. "
   ]
  },
  {
   "cell_type": "code",
   "execution_count": 359,
   "metadata": {},
   "outputs": [
    {
     "data": {
      "text/plain": [
       "city                       0.000000\n",
       "city_development_index     0.000000\n",
       "company_size              30.994885\n",
       "company_type              32.049274\n",
       "education_level            2.401086\n",
       "enrolled_university        2.014824\n",
       "enrollee_id                0.000000\n",
       "experience                 0.339284\n",
       "gender                    23.530640\n",
       "last_new_job               2.207955\n",
       "major_discipline          14.683161\n",
       "relevent_experience        0.000000\n",
       "training_hours             0.000000\n",
       "dtype: float64"
      ]
     },
     "execution_count": 359,
     "metadata": {},
     "output_type": "execute_result"
    }
   ],
   "source": [
    "X_hr.isna().sum()/len(X_hr)*100"
   ]
  },
  {
   "cell_type": "markdown",
   "metadata": {},
   "source": [
    "Обратим внимание, что есть категории в котрых достаточно много пропусков - порядка 30 процентов.Поэтому будем заполнять значения в этих столбцах отдельной категорией. Остальные можно было бы чем-то заполнить, не не буду, а просто удалю, так как их сумма процентов меньше 15 процентов. "
   ]
  },
  {
   "cell_type": "markdown",
   "metadata": {},
   "source": [
    "_Ваш ответ_"
   ]
  },
  {
   "cell_type": "code",
   "execution_count": 360,
   "metadata": {},
   "outputs": [],
   "source": [
    "def fill_na(X, y):\n",
    "    fulldata = X.join(y)\n",
    "    Who_go_out = ['education_level','enrolled_university','experience','last_new_job']\n",
    "    fulldata = fulldata.dropna(subset = Who_go_out)\n",
    "    y_fill = fulldata['target']\n",
    "    X_fill = fulldata[fulldata.columns.difference(['target'])].fillna('I do not know') \n",
    "    return X_fill, y_fill"
   ]
  },
  {
   "cell_type": "code",
   "execution_count": 361,
   "metadata": {},
   "outputs": [],
   "source": [
    "X_hr_fill, y_hr_fill = fill_na(X_hr, y_hr)"
   ]
  },
  {
   "cell_type": "markdown",
   "metadata": {},
   "source": [
    "#### 5.  (0.5 балла)\n",
    "Как изменились распределения признаков/статистика по количеству значений признаков после заполнения пропущенных данных?"
   ]
  },
  {
   "cell_type": "markdown",
   "metadata": {},
   "source": [
    "статистика по признакам"
   ]
  },
  {
   "cell_type": "code",
   "execution_count": 362,
   "metadata": {},
   "outputs": [
    {
     "name": "stdout",
     "output_type": "stream",
     "text": [
      "До изменений\n",
      "city_1       26\n",
      "city_10      86\n",
      "city_100    275\n",
      "city_101     75\n",
      "city_102    304\n",
      "           ... \n",
      "city_93      26\n",
      "city_94      26\n",
      "city_97     104\n",
      "city_98      79\n",
      "city_99      94\n",
      "Name: city, Length: 123, dtype: int64\n",
      "После\n",
      "city_1       25\n",
      "city_10      82\n",
      "city_100    259\n",
      "city_101     70\n",
      "city_102    287\n",
      "           ... \n",
      "city_93      24\n",
      "city_94      24\n",
      "city_97      99\n",
      "city_98      77\n",
      "city_99      91\n",
      "Name: city, Length: 123, dtype: int64\n",
      "До изменений\n",
      "10/49        1471\n",
      "100-500      2571\n",
      "1000-4999    1328\n",
      "10000+       2019\n",
      "50-99        3083\n",
      "500-999       877\n",
      "5000-9999     563\n",
      "<10          1308\n",
      "Name: company_size, dtype: int64\n",
      "После\n",
      "10/49            1394\n",
      "100-500          2483\n",
      "1000-4999        1282\n",
      "10000+           1964\n",
      "50-99            2950\n",
      "500-999           847\n",
      "5000-9999         542\n",
      "<10              1242\n",
      "I do not know    5310\n",
      "Name: company_size, dtype: int64\n",
      "До изменений\n",
      "Early Stage Startup     603\n",
      "Funded Startup         1001\n",
      "NGO                     521\n",
      "Other                   121\n",
      "Public Sector           955\n",
      "Pvt Ltd                9817\n",
      "Name: company_type, dtype: int64\n",
      "После\n",
      "Early Stage Startup     562\n",
      "Funded Startup          975\n",
      "I do not know          5476\n",
      "NGO                     500\n",
      "Other                   114\n",
      "Public Sector           912\n",
      "Pvt Ltd                9475\n",
      "Name: company_type, dtype: int64\n",
      "До изменений\n",
      "Graduate          11598\n",
      "High School        2017\n",
      "Masters            4361\n",
      "Phd                 414\n",
      "Primary School      308\n",
      "Name: education_level, dtype: int64\n",
      "После\n",
      "Graduate          11188\n",
      "High School        1908\n",
      "Masters            4228\n",
      "Phd                 399\n",
      "Primary School      291\n",
      "Name: education_level, dtype: int64\n",
      "До изменений\n",
      "Full time course     3757\n",
      "Part time course     1198\n",
      "no_enrollment       13817\n",
      "Name: enrolled_university, dtype: int64\n",
      "После\n",
      "Full time course     3517\n",
      "Part time course     1149\n",
      "no_enrollment       13348\n",
      "Name: enrolled_university, dtype: int64\n",
      "До изменений\n",
      "1       549\n",
      "10      985\n",
      "11      664\n",
      "12      494\n",
      "13      399\n",
      "14      586\n",
      "15      686\n",
      "16      508\n",
      "17      342\n",
      "18      280\n",
      "19      304\n",
      "2      1127\n",
      "20      148\n",
      "3      1354\n",
      "4      1403\n",
      "5      1430\n",
      "6      1216\n",
      "7      1028\n",
      "8       802\n",
      "9       980\n",
      "<1      522\n",
      ">20    3286\n",
      "Name: experience, dtype: int64\n",
      "После\n",
      "1       475\n",
      "10      946\n",
      "11      649\n",
      "12      475\n",
      "13      387\n",
      "14      569\n",
      "15      668\n",
      "16      488\n",
      "17      331\n",
      "18      273\n",
      "19      294\n",
      "2       997\n",
      "20      142\n",
      "3      1223\n",
      "4      1298\n",
      "5      1337\n",
      "6      1143\n",
      "7       982\n",
      "8       768\n",
      "9       936\n",
      "<1      451\n",
      ">20    3182\n",
      "Name: experience, dtype: int64\n",
      "До изменений\n",
      "Female     1238\n",
      "Male      13221\n",
      "Other       191\n",
      "Name: gender, dtype: int64\n",
      "После\n",
      "Female            1206\n",
      "I do not know     3863\n",
      "Male             12772\n",
      "Other              173\n",
      "Name: gender, dtype: int64\n",
      "До изменений\n",
      "1        8040\n",
      "2        2900\n",
      "3        1024\n",
      "4        1029\n",
      ">4       3290\n",
      "never    2452\n",
      "Name: last_new_job, dtype: int64\n",
      "После\n",
      "1        7789\n",
      "2        2827\n",
      "3         991\n",
      "4        1010\n",
      ">4       3210\n",
      "never    2187\n",
      "Name: last_new_job, dtype: int64\n",
      "До изменений\n",
      "Arts                 253\n",
      "Business Degree      327\n",
      "Humanities           669\n",
      "No Major             223\n",
      "Other                381\n",
      "STEM               14492\n",
      "Name: major_discipline, dtype: int64\n",
      "После\n",
      "Arts                 248\n",
      "Business Degree      322\n",
      "Humanities           653\n",
      "I do not know       2222\n",
      "No Major             212\n",
      "Other                364\n",
      "STEM               13993\n",
      "Name: major_discipline, dtype: int64\n",
      "До изменений\n",
      "Has relevent experience    13792\n",
      "No relevent experience      5366\n",
      "Name: relevent_experience, dtype: int64\n",
      "После\n",
      "Has relevent experience    13190\n",
      "No relevent experience      4824\n",
      "Name: relevent_experience, dtype: int64\n"
     ]
    }
   ],
   "source": [
    "for i in X_hr[X_hr.columns.difference(['city_development_index', 'enrollee_id', 'training_hours'])].columns:\n",
    "    print('До изменений')\n",
    "    print(X_hr[i].value_counts().sort_index())\n",
    "    print('После')\n",
    "    print(X_hr_fill[i].value_counts().sort_index())"
   ]
  },
  {
   "cell_type": "markdown",
   "metadata": {},
   "source": [
    "Числнные переменные"
   ]
  },
  {
   "cell_type": "code",
   "execution_count": 363,
   "metadata": {},
   "outputs": [
    {
     "data": {
      "text/plain": [
       "array([[<matplotlib.axes._subplots.AxesSubplot object at 0x7fdccedaa450>,\n",
       "        <matplotlib.axes._subplots.AxesSubplot object at 0x7fdcceba7b90>],\n",
       "       [<matplotlib.axes._subplots.AxesSubplot object at 0x7fdcf09aa910>,\n",
       "        <matplotlib.axes._subplots.AxesSubplot object at 0x7fdcf096a150>]],\n",
       "      dtype=object)"
      ]
     },
     "execution_count": 363,
     "metadata": {},
     "output_type": "execute_result"
    },
    {
     "data": {
      "image/png": "[encoded data removed]",
      "text/plain": [
       "<Figure size 432x288 with 4 Axes>"
      ]
     },
     "metadata": {
      "needs_background": "light"
     },
     "output_type": "display_data"
    }
   ],
   "source": [
    "X_hr_fill[['city_development_index', 'enrollee_id', 'training_hours']].hist(bins=40)"
   ]
  },
  {
   "cell_type": "code",
   "execution_count": 364,
   "metadata": {},
   "outputs": [
    {
     "data": {
      "text/html": [
       "<div>\n",
       "<style scoped>\n",
       "    .dataframe tbody tr th:only-of-type {\n",
       "        vertical-align: middle;\n",
       "    }\n",
       "\n",
       "    .dataframe tbody tr th {\n",
       "        vertical-align: top;\n",
       "    }\n",
       "\n",
       "    .dataframe thead th {\n",
       "        text-align: right;\n",
       "    }\n",
       "</style>\n",
       "<table border=\"1\" class=\"dataframe\">\n",
       "  <thead>\n",
       "    <tr style=\"text-align: right;\">\n",
       "      <th></th>\n",
       "      <th>city_development_index</th>\n",
       "      <th>training_hours</th>\n",
       "    </tr>\n",
       "  </thead>\n",
       "  <tbody>\n",
       "    <tr>\n",
       "      <td>count</td>\n",
       "      <td>18014.000000</td>\n",
       "      <td>18014.000000</td>\n",
       "    </tr>\n",
       "    <tr>\n",
       "      <td>mean</td>\n",
       "      <td>0.831728</td>\n",
       "      <td>65.347896</td>\n",
       "    </tr>\n",
       "    <tr>\n",
       "      <td>std</td>\n",
       "      <td>0.122115</td>\n",
       "      <td>60.059220</td>\n",
       "    </tr>\n",
       "    <tr>\n",
       "      <td>min</td>\n",
       "      <td>0.448000</td>\n",
       "      <td>1.000000</td>\n",
       "    </tr>\n",
       "    <tr>\n",
       "      <td>25%</td>\n",
       "      <td>0.745000</td>\n",
       "      <td>23.000000</td>\n",
       "    </tr>\n",
       "    <tr>\n",
       "      <td>50%</td>\n",
       "      <td>0.910000</td>\n",
       "      <td>47.000000</td>\n",
       "    </tr>\n",
       "    <tr>\n",
       "      <td>75%</td>\n",
       "      <td>0.920000</td>\n",
       "      <td>88.000000</td>\n",
       "    </tr>\n",
       "    <tr>\n",
       "      <td>max</td>\n",
       "      <td>0.949000</td>\n",
       "      <td>336.000000</td>\n",
       "    </tr>\n",
       "  </tbody>\n",
       "</table>\n",
       "</div>"
      ],
      "text/plain": [
       "       city_development_index  training_hours\n",
       "count            18014.000000    18014.000000\n",
       "mean                 0.831728       65.347896\n",
       "std                  0.122115       60.059220\n",
       "min                  0.448000        1.000000\n",
       "25%                  0.745000       23.000000\n",
       "50%                  0.910000       47.000000\n",
       "75%                  0.920000       88.000000\n",
       "max                  0.949000      336.000000"
      ]
     },
     "execution_count": 364,
     "metadata": {},
     "output_type": "execute_result"
    }
   ],
   "source": [
    "X_hr_fill[X_hr_fill.columns.difference(['enrollee_id'])].describe()"
   ]
  },
  {
   "cell_type": "markdown",
   "metadata": {},
   "source": [
    "Численные переменные изменились мало. В категориальных пременных, как и раннее отмечалось есть существенный перекос в сторону заполненных значений. "
   ]
  },
  {
   "cell_type": "markdown",
   "metadata": {},
   "source": [
    "### Задание 3 (1 балл)\n",
    "\n",
    "Выполните задание для датасета _covid_.\n",
    "\n",
    "1. Найдите страну, для которой в датасете присутствует 46 дат со статистикой по вакцинации.\n",
    "2. Постройте для этой страны график зависимости _total_vaccinations_ от _date_.\n",
    "3. Заполните пропущенные данные о _total_vaccinations_ для этой страны. Объясните свой выбор."
   ]
  },
  {
   "cell_type": "code",
   "execution_count": 365,
   "metadata": {},
   "outputs": [
    {
     "data": {
      "text/plain": [
       "country  date\n",
       "Bahrain  1       46\n",
       "Name: date, dtype: int64"
      ]
     },
     "execution_count": 365,
     "metadata": {},
     "output_type": "execute_result"
    }
   ],
   "source": [
    "X_covid.groupby('country')['date'].value_counts().groupby('country').value_counts()[X_covid.groupby('country')['date'].value_counts().groupby('country').value_counts() == 46]"
   ]
  },
  {
   "cell_type": "code",
   "execution_count": 366,
   "metadata": {},
   "outputs": [],
   "source": [
    "data = X_covid[X_covid['country'] == 'Bahrain']"
   ]
  },
  {
   "cell_type": "markdown",
   "metadata": {},
   "source": [
    "Страна - Бахрейн"
   ]
  },
  {
   "cell_type": "code",
   "execution_count": 367,
   "metadata": {},
   "outputs": [
    {
     "data": {
      "text/plain": [
       "[<matplotlib.lines.Line2D at 0x7fdccf51ab90>]"
      ]
     },
     "execution_count": 367,
     "metadata": {},
     "output_type": "execute_result"
    },
    {
     "data": {
      "image/png": "[encoded data removed]",
      "text/plain": [
       "<Figure size 432x288 with 1 Axes>"
      ]
     },
     "metadata": {
      "needs_background": "light"
     },
     "output_type": "display_data"
    }
   ],
   "source": [
    "plt.plot(data['date'], data['total_vaccinations'])"
   ]
  },
  {
   "cell_type": "markdown",
   "metadata": {},
   "source": [
    "На графике присутвиет разрыв. Вопрос о том, чем заполнить данную брешь существенный. Очевидно, что график должен монотонно возрастать (по смыслу), однако выбор функции не однозначен. Для простоты воспользуемся сплайном. (физики любят сплайны больше линейных зависимостей). Так они очень хорошо приблежают реальные графики, из которых известны только некоторые точки."
   ]
  },
  {
   "cell_type": "code",
   "execution_count": 368,
   "metadata": {},
   "outputs": [
    {
     "name": "stderr",
     "output_type": "stream",
     "text": [
      "/opt/anaconda3/lib/python3.7/site-packages/pandas/core/generic.py:7070: SettingWithCopyWarning: \n",
      "A value is trying to be set on a copy of a slice from a DataFrame\n",
      "\n",
      "See the caveats in the documentation: http://pandas.pydata.org/pandas-docs/stable/user_guide/indexing.html#returning-a-view-versus-a-copy\n",
      "  self._update_inplace(new_data)\n"
     ]
    }
   ],
   "source": [
    "data['total_vaccinations'].interpolate(method='spline', order=5, inplace=True)"
   ]
  },
  {
   "cell_type": "code",
   "execution_count": 369,
   "metadata": {},
   "outputs": [
    {
     "data": {
      "text/plain": [
       "[<matplotlib.lines.Line2D at 0x7fdccf26f450>]"
      ]
     },
     "execution_count": 369,
     "metadata": {},
     "output_type": "execute_result"
    },
    {
     "data": {
      "image/png": "[encoded data removed]",
      "text/plain": [
       "<Figure size 432x288 with 1 Axes>"
      ]
     },
     "metadata": {
      "needs_background": "light"
     },
     "output_type": "display_data"
    }
   ],
   "source": [
    "plt.plot(data['date'],data['total_vaccinations'])"
   ]
  },
  {
   "cell_type": "markdown",
   "metadata": {},
   "source": [
    "### Задание 4  (0.5 балла)\n",
    "Выполните задание для датасета _hr_.\n",
    "\n",
    "Есть ли в данных выбросы? Если да, то скажите, какие и почему Вы считаете их выбросами?\n"
   ]
  },
  {
   "cell_type": "code",
   "execution_count": 370,
   "metadata": {},
   "outputs": [
    {
     "name": "stdout",
     "output_type": "stream",
     "text": [
      "отклонения в индексе развития городов 0\n",
      "отклонения в часах подготовки 0\n"
     ]
    },
    {
     "data": {
      "image/png": "[encoded data removed]",
      "text/plain": [
       "<Figure size 432x288 with 2 Axes>"
      ]
     },
     "metadata": {
      "needs_background": "light"
     },
     "output_type": "display_data"
    }
   ],
   "source": [
    "X_hr, y_hr \n",
    "X_hr[['city_development_index', 'training_hours']].hist(bins=40)\n",
    "\n",
    "print('отклонения в индексе развития городов '+ str(sum(sum(list( [X_hr['city_development_index'] > 1] or [X_hr_fill_new['city_development_index'] < 0])))))\n",
    "print('отклонения в часах подготовки '+ str(sum(sum(list(  [X_hr['training_hours'] < 0])))))"
   ]
  },
  {
   "cell_type": "markdown",
   "metadata": {},
   "source": [
    "ВЫбросов в данных нет. Все находится в пределах допустимого. Графики подтверждают это. Есть разумеется большое количесвто городов с индексом развития чуть больше 0.6, но это можно объяснить тем, что много людей было опрошено в конкретном городе."
   ]
  },
  {
   "cell_type": "markdown",
   "metadata": {},
   "source": [
    "### Задание 5  (1 балл)\n",
    "Выполните задание для датасета _hr_.\n",
    "\n",
    "Закодируйте категориальные признаки при помощи One-hot encoding/Label encoding/Frequency encoding. Объясните свой выбор. (Обратите внимание, что некоторые категориальные признаки предполагают ранжирование в своих значениях). \n",
    "Ранговые критерии будем кодировать с помощью словаря. "
   ]
  },
  {
   "cell_type": "code",
   "execution_count": 371,
   "metadata": {},
   "outputs": [],
   "source": [
    "def encode(X):\n",
    "    # ранговые\n",
    "    X_encode = pd.DataFrame(X, copy=True)\n",
    "    company_size_dict = {'I do not know':0, '<10': 1, '10/49': 2, '50-99': 3, '100-500': 4, '500-999': 5, '1000-4999': 6,\n",
    "                        '5000-9999': 7, '10000+': 8}\n",
    "    education_level_dict = {'I do not know':0,'Primary School':1,'High School':2, 'Graduate':3, 'Masters':4,'Phd':5}         \n",
    "    experience_dict = {str(i-1): i for i in range(2, 22)} \n",
    "    experience_dict.update({'<1':1,'>20':22,'I do not know':0})\n",
    "    last_new_job_dict = {'1':2,'2':3,'3':4,'4':5} \n",
    "    last_new_job_dict.update({'<1':1,'>4':6,'never':0})\n",
    "    enrolled_university_dict = {'no_enrollment':0,'Part time course':1,'Full time course':2 }\n",
    "    \n",
    "   \n",
    "    \n",
    "    X_encode['company_size'] = X_encode.company_size.map(company_size_dict)\n",
    "    X_encode['education_level'] = X_encode.education_level.map(education_level_dict)\n",
    "    X_encode['experience'] = X_encode.experience.map(experience_dict)\n",
    "    X_encode['last_new_job'] = X_encode.last_new_job.map(last_new_job_dict)\n",
    "    X_encode['enrolled_university'] = X_encode.enrolled_university.map(enrolled_university_dict)\n",
    "    \n",
    "    #\n",
    "    for col in X_encode.drop( ['last_new_job', 'company_size', 'experience', 'enrollee_id', 'enrolled_university', 'education_level', 'city_development_index', 'enrollee_id', 'training_hours'], axis=1):\n",
    "        X_encode = pd.get_dummies(X_encode, prefix=[col], columns=[col])\n",
    "        \n",
    "    # Возвращает данные без категориальных признаков\n",
    "    return X_encode"
   ]
  },
  {
   "cell_type": "code",
   "execution_count": 372,
   "metadata": {},
   "outputs": [],
   "source": [
    "X_hr_encode = encode(X_hr_fill)"
   ]
  },
  {
   "cell_type": "code",
   "execution_count": 373,
   "metadata": {},
   "outputs": [
    {
     "data": {
      "text/plain": [
       "Series([], dtype: int64)"
      ]
     },
     "execution_count": 373,
     "metadata": {},
     "output_type": "execute_result"
    }
   ],
   "source": [
    "X_hr_encode.isna().sum()[X_hr_encode.isna().sum()!=0]"
   ]
  },
  {
   "cell_type": "markdown",
   "metadata": {},
   "source": [
    "### Задание 6 (3.5 балла)\n",
    "\n",
    "Выполните задание для датасета _hr_.\n",
    "\n",
    "\n"
   ]
  },
  {
   "cell_type": "markdown",
   "metadata": {},
   "source": [
    "#### 1. (1 балл)\n",
    "Реализуйте функцию undersampling"
   ]
  },
  {
   "cell_type": "code",
   "execution_count": 374,
   "metadata": {},
   "outputs": [
    {
     "data": {
      "text/plain": [
       "0.0    13593\n",
       "1.0     4421\n",
       "Name: target, dtype: int64"
      ]
     },
     "execution_count": 374,
     "metadata": {},
     "output_type": "execute_result"
    }
   ],
   "source": [
    "y_hr_fill.value_counts()"
   ]
  },
  {
   "cell_type": "markdown",
   "metadata": {},
   "source": [
    "#### 2. (1 балл)\n",
    "Реализуйте функцию oversampling"
   ]
  },
  {
   "cell_type": "code",
   "execution_count": 375,
   "metadata": {},
   "outputs": [],
   "source": [
    "def undersampling(X, y):\n",
    "    # Возвращает данные, сбалансированные методом undersampling (необходимо урезать больший)\n",
    "    data = X.join(y)\n",
    "    data_1 = data[data['target']==1.0]\n",
    "    data_0 = data[data['target']==0.0]\n",
    "    # ab = y_hr_fill.value_counts()\n",
    "    # ad_m = ab[0]/ab[1]\n",
    "    who_in = random.sample(list(range(len(data_0))), len(data_1))\n",
    "    data_0 = data_0.iloc[who_in]\n",
    "    data = pd.concat([data_0, data_1], axis=0)\n",
    "    y_under = data['target']\n",
    "    X_under = data.drop(['target'], axis=1)\n",
    "    return X_under, y_under\n",
    "\n",
    "def oversampling(X, y):\n",
    "    # Возвращает данные, сбалансированные методом undersampling (нужно размножить меньший)\n",
    "    data = X.join(y)\n",
    "    data_1 = data[data['target']==1.0]\n",
    "    data_0 = data[data['target']==0.0]\n",
    "    ab = y_hr_fill.value_counts()\n",
    "    ad_m = ab[0]//ab[1]\n",
    "    ad_p = ab[0]-ad_m*ab[1]\n",
    "    data_11 = pd.DataFrame(data_1, copy=True)\n",
    "    who_in = random.sample(list(range(len(data_1))), ad_p)\n",
    "    for i in range(ad_m-1):\n",
    "        data_11 = pd.concat([data_11, data_1], axis=0)\n",
    "    data_12 = data_1.iloc[who_in]\n",
    "    data_1 = pd.concat([data_11, data_12], axis=0)\n",
    "    data = pd.concat([data_0, data_1], axis=0)\n",
    "    y_over = data['target']\n",
    "    X_over = data.drop(['target'], axis=1)\n",
    "    return X_over, y_over"
   ]
  },
  {
   "cell_type": "code",
   "execution_count": 376,
   "metadata": {},
   "outputs": [],
   "source": [
    "X_hr_under, y_hr_under = undersampling(X_hr_encode, y_hr_fill)\n",
    "\n",
    "X_hr_over, y_hr_over = oversampling(X_hr_encode, y_hr_fill)"
   ]
  },
  {
   "cell_type": "markdown",
   "metadata": {},
   "source": [
    "#### 3. (1 балл)\n",
    "Используйте _SMOTE_ для балансировки датасета."
   ]
  },
  {
   "cell_type": "markdown",
   "metadata": {},
   "source": [
    "Помимо методов _undersampling_ и _oversampling_ существует подход, генерирующий элементы класса-меньшинства, похожие на уже присутствующие в выборке данных. Такой метод называется _Synthetic Minority Oversampling Technique_ (SMOTE). \n",
    "\n",
    "Метод _SMOTE_ , реализованный в библиотеке `imblearn`, генерирует синтетические примеры при помощи __k-nearest neighbor__ алгоритма (подробнее об этом алгоритме будет рассказано на лекции)."
   ]
  },
  {
   "cell_type": "code",
   "execution_count": 377,
   "metadata": {},
   "outputs": [
    {
     "name": "stdout",
     "output_type": "stream",
     "text": [
      "Requirement already up-to-date: imbalanced-learn in /opt/anaconda3/lib/python3.7/site-packages (0.7.0)\n",
      "Requirement already satisfied, skipping upgrade: joblib>=0.11 in /opt/anaconda3/lib/python3.7/site-packages (from imbalanced-learn) (0.13.2)\n",
      "Requirement already satisfied, skipping upgrade: numpy>=1.13.3 in /opt/anaconda3/lib/python3.7/site-packages (from imbalanced-learn) (1.17.2)\n",
      "Requirement already satisfied, skipping upgrade: scikit-learn>=0.23 in /opt/anaconda3/lib/python3.7/site-packages (from imbalanced-learn) (0.24.1)\n",
      "Requirement already satisfied, skipping upgrade: scipy>=0.19.1 in /opt/anaconda3/lib/python3.7/site-packages (from imbalanced-learn) (1.3.1)\n",
      "Requirement already satisfied, skipping upgrade: threadpoolctl>=2.0.0 in /opt/anaconda3/lib/python3.7/site-packages (from scikit-learn>=0.23->imbalanced-learn) (2.1.0)\n",
      "\u001b[33mWARNING: You are using pip version 20.1.1; however, version 21.0.1 is available.\n",
      "You should consider upgrading via the '/opt/anaconda3/bin/python -m pip install --upgrade pip' command.\u001b[0m\n"
     ]
    }
   ],
   "source": [
    "!pip install -U imbalanced-learn"
   ]
  },
  {
   "cell_type": "code",
   "execution_count": 378,
   "metadata": {},
   "outputs": [],
   "source": [
    "from imblearn.over_sampling import SMOTE\n",
    "X_resampled, y_resampled = SMOTE().fit_resample(X_hr_encode, y_hr_fill)\n",
    "\n",
    "# smote = # YOUR_CODE\n",
    "# X_hr_SMOTE, y_hr_SMOTE = # YOUR_CODE"
   ]
  },
  {
   "cell_type": "markdown",
   "metadata": {},
   "source": [
    "#### 4. (0.5 балла)\n",
    "Как изменились распределения признаков при различных тактиках балансирования датасета?"
   ]
  },
  {
   "cell_type": "code",
   "execution_count": 379,
   "metadata": {},
   "outputs": [
    {
     "name": "stdout",
     "output_type": "stream",
     "text": [
      "undersampling\n",
      "0    13.141823\n",
      "2    44.220765\n",
      "3    15.256729\n",
      "4     5.496494\n",
      "5     5.202443\n",
      "6    16.681746\n",
      "Name: last_new_job, dtype: float64\n",
      "oversampling\n",
      "0    13.242110\n",
      "2    44.173472\n",
      "3    15.610976\n",
      "4     5.326271\n",
      "5     5.381446\n",
      "6    16.265725\n",
      "Name: last_new_job, dtype: float64\n",
      "smote\n",
      "0    12.311484\n",
      "1     3.420878\n",
      "2    43.882881\n",
      "3    15.004046\n",
      "4     6.679909\n",
      "5     6.205400\n",
      "6    12.495402\n",
      "Name: last_new_job, dtype: float64\n",
      "undersampling\n",
      "0    36.609364\n",
      "1     5.779235\n",
      "2     7.679258\n",
      "3    14.646008\n",
      "4    12.090025\n",
      "5     4.161954\n",
      "6     6.084596\n",
      "7     2.589912\n",
      "8    10.359647\n",
      "Name: company_size, dtype: float64\n",
      "oversampling\n",
      "0    36.367984\n",
      "1     6.142868\n",
      "2     7.478114\n",
      "3    14.834841\n",
      "4    12.116531\n",
      "5     4.193335\n",
      "6     6.120797\n",
      "7     2.725668\n",
      "8    10.019863\n",
      "Name: company_size, dtype: float64\n",
      "smote\n",
      "0    33.793129\n",
      "1     9.089237\n",
      "2     9.501214\n",
      "3    14.698742\n",
      "4    11.476495\n",
      "5     4.936364\n",
      "6     5.889061\n",
      "7     3.145001\n",
      "8     7.470757\n",
      "Name: company_size, dtype: float64\n",
      "undersampling\n",
      "1      3.257182\n",
      "2      3.223253\n",
      "3      6.480434\n",
      "4      7.758426\n",
      "5      7.950690\n",
      "6      7.826284\n",
      "7      6.650079\n",
      "8      5.914951\n",
      "9      3.913142\n",
      "10     4.953630\n",
      "11     4.727437\n",
      "12     3.392898\n",
      "13     2.510744\n",
      "14     2.261932\n",
      "15     2.770866\n",
      "16     3.347659\n",
      "17     2.284551\n",
      "18     1.741687\n",
      "19     1.368469\n",
      "20     1.425017\n",
      "21     0.769057\n",
      "22    15.471613\n",
      "Name: experience, dtype: float64\n",
      "oversampling\n",
      "1      3.214890\n",
      "2      3.262709\n",
      "3      6.227470\n",
      "4      7.776061\n",
      "5      7.989406\n",
      "6      7.856985\n",
      "7      6.687266\n",
      "8      5.811815\n",
      "9      4.222762\n",
      "10     4.932686\n",
      "11     5.039358\n",
      "12     3.512837\n",
      "13     2.401972\n",
      "14     1.989995\n",
      "15     2.858089\n",
      "16     3.306849\n",
      "17     2.295299\n",
      "18     1.669977\n",
      "19     1.298462\n",
      "20     1.441919\n",
      "21     0.772456\n",
      "22    15.430736\n",
      "Name: experience, dtype: float64\n",
      "smote\n",
      "1      2.350475\n",
      "2      3.178106\n",
      "3      6.172295\n",
      "4      7.673067\n",
      "5      8.066652\n",
      "6      8.327816\n",
      "7      7.084529\n",
      "8      5.881704\n",
      "9      4.962113\n",
      "10     5.204885\n",
      "11     4.951078\n",
      "12     3.453984\n",
      "13     2.861767\n",
      "14     2.324726\n",
      "15     3.008902\n",
      "16     3.270065\n",
      "17     2.497609\n",
      "18     1.916428\n",
      "19     1.692047\n",
      "20     1.629515\n",
      "21     1.184433\n",
      "22    12.307805\n",
      "Name: experience, dtype: float64\n",
      "undersampling\n",
      "1     1.130966\n",
      "2     9.907261\n",
      "3    65.301968\n",
      "4    21.737164\n",
      "5     1.922642\n",
      "Name: education_level, dtype: float64\n",
      "oversampling\n",
      "1     1.353638\n",
      "2     9.869050\n",
      "3    64.566321\n",
      "4    22.323990\n",
      "5     1.887001\n",
      "Name: education_level, dtype: float64\n",
      "smote\n",
      "1     1.408813\n",
      "2    11.973074\n",
      "3    67.571544\n",
      "4    17.578901\n",
      "5     1.467667\n",
      "Name: education_level, dtype: float64\n"
     ]
    }
   ],
   "source": [
    "for i in ['last_new_job', 'company_size', 'experience','education_level' ]:\n",
    "    print('undersampling')\n",
    "    print(X_hr_under[i].value_counts().sort_index()/sum(X_hr_under[i].value_counts())*100)\n",
    "    print('oversampling')\n",
    "    print(X_hr_over[i].value_counts().sort_index()/sum(X_hr_over[i].value_counts().sort_index())*100)\n",
    "    print('smote')\n",
    "    print(X_resampled[i].value_counts().sort_index()/sum(X_resampled[i].value_counts().sort_index())*100)"
   ]
  },
  {
   "cell_type": "markdown",
   "metadata": {},
   "source": [
    "Как видно по результатам все показатели более менее равны. Однако, у тех данных, что получены методом SMOTE все значения лучше приближаются к тому что было в изначальных данных "
   ]
  },
  {
   "cell_type": "code",
   "execution_count": null,
   "metadata": {},
   "outputs": [],
   "source": []
  }
 ],
 "metadata": {
  "kernelspec": {
   "display_name": "Python 3",
   "language": "python",
   "name": "python3"
  },
  "language_info": {
   "codemirror_mode": {
    "name": "ipython",
    "version": 3
   },
   "file_extension": ".py",
   "mimetype": "text/x-python",
   "name": "python",
   "nbconvert_exporter": "python",
   "pygments_lexer": "ipython3",
   "version": "3.7.4"
  }
 },
 "nbformat": 4,
 "nbformat_minor": 4
}
