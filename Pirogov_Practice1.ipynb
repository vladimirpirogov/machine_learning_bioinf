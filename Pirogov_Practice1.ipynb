{
 "cells": [
  {
   "cell_type": "markdown",
   "metadata": {
    "id": "Lj8Gh06zXxb8"
   },
   "source": [
    " # Analysis and prediction of super-enhancers\n",
    " ____"
   ]
  },
  {
   "cell_type": "markdown",
   "metadata": {
    "id": "ElM44Vr5-AY3"
   },
   "source": [
    "Filled notebook without tasks = 5 points\n",
    "\n",
    "Additional tasks = 15 points (+5 Bonus)"
   ]
  },
  {
   "cell_type": "markdown",
   "metadata": {
    "id": "Cv5uTXEw0sJ2"
   },
   "source": [
    " \n",
    "# Intoduction\n"
   ]
  },
  {
   "cell_type": "markdown",
   "metadata": {
    "id": "I1vgUWmXVTeC"
   },
   "source": [
    "In the notebook the super-enhancers prediction is made by means of classical Machine Learning Models.\n",
    "\n",
    "The notebook was made based on the article [Analysis and prediction of super-enhancers using sequence and chromatin signatures](https://www.biorxiv.org/content/10.1101/105262v1.full) and appropriate [github repository](https://github.com/asntech/improse)."
   ]
  },
  {
   "cell_type": "markdown",
   "metadata": {
    "id": "oOv3BR-0VHn7"
   },
   "source": [
    "## Biology problem statement"
   ]
  },
  {
   "cell_type": "markdown",
   "metadata": {
    "id": "KNphvLAqX_3n"
   },
   "source": [
    "### Background"
   ]
  },
  {
   "cell_type": "markdown",
   "metadata": {
    "id": "eDF2SHjCYNXe"
   },
   "source": [
    "In genetics, an enhancer is a short (50–1500 bp) region of DNA that can be bound by proteins (activators) to increase the likelihood that transcription of a particular gene will occur.\n",
    "\n",
    "A myriad of transcription factors bind to enhancers and regulate gene expression by recruiting coactivators and RNA polymerase II to target genes."
   ]
  },
  {
   "cell_type": "markdown",
   "metadata": {
    "id": "_3qIMvFvXtJV"
   },
   "source": [
    "### What is super-enhancers and why care?"
   ]
  },
  {
   "cell_type": "markdown",
   "metadata": {
    "id": "Kk-cpm7I0xLZ"
   },
   "source": [
    "DNA enhancers regions have been\n",
    "identified and classified into **super-enhancers (SEs)** and **typical enhancers (TEs)** by using ChIP-seq\n",
    "signal. \n",
    "\n",
    "**Super-enhancers** form clusters of active enhancers, are celltype specific, associated with key cell identity genes, and linked to many biological processes which\n",
    "define the cell identity. These **super-enhancers** are densely loaded with the Mediator complex,\n",
    "master transcription factors and chromatin regulators. Many disease- and trait-associated\n",
    "single nucleotide polymorphisms (SNPs) have been found in these regions. \n",
    "\n",
    "**Super-enhancers**\n",
    "differ from **typical enhancers** in terms of size, ChIP-seq density of various cofactors, DNA motif\n",
    "content, DNA methylation level, enhancer RNA (eRNA) abundance, ability to activate transcription\n",
    "and sensitivity to perturbation. Further, studies have found super-enhancers in\n",
    "multiple cancers and demonstrated their importance in cellular-identity and disease and emphasized\n",
    "their use as potential biomarkers."
   ]
  },
  {
   "cell_type": "markdown",
   "metadata": {
    "id": "bR7eY9DWZl2a"
   },
   "source": [
    "### What is problem?"
   ]
  },
  {
   "cell_type": "markdown",
   "metadata": {
    "id": "k4Wx0CoAaCVP"
   },
   "source": [
    "ChIP-seq data\n",
    "for MED1 - part of Mediator complex working with RNA polymerase II optimally differentiated super-enhancers and typical enhancers by comparing it with\n",
    "enhancer marks, including **H3K27ac**, **H3K4me1** and **DNase I** hypersensitivity. **BRD4**, a member\n",
    "of the BET protein family, was also used to distinguish super-enhancers from typical enhancers as it\n",
    "is highly correlated with MED1. **H3K27ac** was extensively used to create a catalogue of super-enhancers across 86 different human cell-types and tissues due to its availability. Other studies\n",
    "used the coactivator protein **P300** to define super-enhancers.\n",
    "\n",
    "However, the knowledge about\n",
    "these factors’ ability to define a set of super-enhancers in a particular cell-type and their relative and\n",
    "combinatorial importance remains limited. Master transcription factors which might form the super-enhancer domains are largely unknown for most of the cell-types, while performing ChIP-seq for the\n",
    "Mediator complex is difficult and costly.\n",
    "\n",
    "Machine Learning methods are able to model such complex dependencies between enhancer's type and external factors."
   ]
  },
  {
   "cell_type": "markdown",
   "metadata": {
    "id": "U_kNEjCHS8xd"
   },
   "source": [
    "## Machine Learning Problem Statement"
   ]
  },
  {
   "cell_type": "markdown",
   "metadata": {
    "id": "1QDprtobVQSR"
   },
   "source": [
    "Binary classification task - predict class of the enhancer (0 - typical enhancer and 1 - super enhancer) based on the set of features - external factors of the enhancer's environment.\n",
    "\n"
   ]
  },
  {
   "cell_type": "markdown",
   "metadata": {
    "id": "EpwENOleL3r_"
   },
   "source": [
    "**Dataset description**\n",
    "\n",
    "10020 rows, 39 features. Target variable - **Class**.\n",
    "\n",
    "| Feature        | Description           |\n",
    "| :------------- |:-------------|\n",
    "|chrom|number of chromatin|\n",
    "|start, end| number of the first and the last nucleotide|\n",
    "| H3K27ac, H3K4me1,  H3K4me3, H3K9me3     | histone modifications | \n",
    "|Med12, Cdk8|sub-units of Mediator complex|\n",
    "| Cdk9      |  P-TFEb subunit      |\n",
    "|p300, CBP| transcriptional co-activating proteins |\n",
    "|Pol2| RNA polymerase II|\n",
    "|Lsd1, Mi2b|subunits of Lsd1-NuRD complex|\n",
    "|Brg1, Brd4, CHD7|other chromatin regulators|\n",
    "|Smc1, Nipbl| Cohesin|\n",
    "|Oct4, Sox2, Nanog, Esrrb, Klf4, Tcfcp2l1, Prdm14, Nr5a2, Smad3, Stat3 and Tcf3| transcription factors|\n",
    "|DNaseI|DNA hypersensitive site|\n",
    "|HDAC, HDAC2|enzymes that remove acetyl groups from an amino acid on a histone|\n",
    "|AT_content|content of A and T nucleotides|\n",
    "|GC_content|content of C and G nucleotides|\n",
    "|phastConsP, phastCons|probability that each nucleotide belongs to a conserved element (from HMM prediction model)|\n",
    "|repeat_fraction| - |\n",
    "|length|number of nucleotides|"
   ]
  },
  {
   "cell_type": "markdown",
   "metadata": {
    "id": "oq_rM1qs27K_"
   },
   "source": [
    "# Content\n",
    "_____"
   ]
  },
  {
   "cell_type": "markdown",
   "metadata": {
    "id": "iPEga5jv2__F"
   },
   "source": [
    "1. Getting familiar with gene expression datasets\n",
    "2. Using the Machine Learning Models pipeline for model construction\n",
    "3. Apply different metrics and models interpretation algorithms"
   ]
  },
  {
   "cell_type": "code",
   "execution_count": 1,
   "metadata": {
    "id": "IMaVQuCZ4fXB"
   },
   "outputs": [],
   "source": [
    "import pandas as pd\n",
    "import numpy as np"
   ]
  },
  {
   "cell_type": "markdown",
   "metadata": {
    "id": "rkYiiCLG4Te0"
   },
   "source": [
    "#1. Data preprocessing"
   ]
  },
  {
   "cell_type": "markdown",
   "metadata": {
    "id": "2uTz6JuIeF34"
   },
   "source": [
    "1. Get information about data type and missing values\n",
    "2. Visualize data\n",
    "3. Split data\n",
    "4. Check balance of classes"
   ]
  },
  {
   "cell_type": "code",
   "execution_count": 4,
   "metadata": {
    "colab": {
     "base_uri": "https://localhost:8080/"
    },
    "id": "yTWsp1PQzsP-",
    "outputId": "ad9f5801-89b7-4d2b-b6f5-0cef37fce411"
   },
   "outputs": [],
   "source": [
    "# !wget https://raw.githubusercontent.com/asntech/improse/master/improse/data/original_data.csv"
   ]
  },
  {
   "cell_type": "code",
   "execution_count": 5,
   "metadata": {
    "id": "m4-G2M6y4SgM"
   },
   "outputs": [],
   "source": [
    "data = pd.read_csv('original_data.csv')"
   ]
  },
  {
   "cell_type": "code",
   "execution_count": 6,
   "metadata": {
    "colab": {
     "base_uri": "https://localhost:8080/",
     "height": 224
    },
    "id": "GeR_th5hkFj8",
    "outputId": "9ab13016-8de2-4419-970a-2534d6e10d99"
   },
   "outputs": [
    {
     "data": {
      "text/html": [
       "<div>\n",
       "<style scoped>\n",
       "    .dataframe tbody tr th:only-of-type {\n",
       "        vertical-align: middle;\n",
       "    }\n",
       "\n",
       "    .dataframe tbody tr th {\n",
       "        vertical-align: top;\n",
       "    }\n",
       "\n",
       "    .dataframe thead th {\n",
       "        text-align: right;\n",
       "    }\n",
       "</style>\n",
       "<table border=\"1\" class=\"dataframe\">\n",
       "  <thead>\n",
       "    <tr style=\"text-align: right;\">\n",
       "      <th></th>\n",
       "      <th>chrom</th>\n",
       "      <th>start</th>\n",
       "      <th>end</th>\n",
       "      <th>Class</th>\n",
       "      <th>H3K27ac</th>\n",
       "      <th>H3K4me1</th>\n",
       "      <th>H3K4me3</th>\n",
       "      <th>H3K9me3</th>\n",
       "      <th>Brd4</th>\n",
       "      <th>Cdk8</th>\n",
       "      <th>...</th>\n",
       "      <th>Klf4</th>\n",
       "      <th>Prdm14</th>\n",
       "      <th>Tcfcp2I1</th>\n",
       "      <th>Nr5a2</th>\n",
       "      <th>AT_content</th>\n",
       "      <th>GC_content</th>\n",
       "      <th>phastCons</th>\n",
       "      <th>phastConsP</th>\n",
       "      <th>repeat_fraction</th>\n",
       "      <th>length</th>\n",
       "    </tr>\n",
       "  </thead>\n",
       "  <tbody>\n",
       "    <tr>\n",
       "      <th>0</th>\n",
       "      <td>chr1</td>\n",
       "      <td>13049615</td>\n",
       "      <td>13050323</td>\n",
       "      <td>SE</td>\n",
       "      <td>0.2018</td>\n",
       "      <td>1.4146</td>\n",
       "      <td>0.0749</td>\n",
       "      <td>0.1198</td>\n",
       "      <td>0.7075</td>\n",
       "      <td>0.6613</td>\n",
       "      <td>...</td>\n",
       "      <td>0.4839</td>\n",
       "      <td>1.5489</td>\n",
       "      <td>0.8829</td>\n",
       "      <td>0.1934</td>\n",
       "      <td>0.552260</td>\n",
       "      <td>0.447740</td>\n",
       "      <td>0.057415</td>\n",
       "      <td>0.057418</td>\n",
       "      <td>0.810734</td>\n",
       "      <td>708</td>\n",
       "    </tr>\n",
       "    <tr>\n",
       "      <th>1</th>\n",
       "      <td>chr1</td>\n",
       "      <td>13061206</td>\n",
       "      <td>13061924</td>\n",
       "      <td>SE</td>\n",
       "      <td>0.1342</td>\n",
       "      <td>0.4785</td>\n",
       "      <td>0.5477</td>\n",
       "      <td>0.2809</td>\n",
       "      <td>0.4630</td>\n",
       "      <td>1.6258</td>\n",
       "      <td>...</td>\n",
       "      <td>0.0315</td>\n",
       "      <td>0.1724</td>\n",
       "      <td>0.1641</td>\n",
       "      <td>0.0000</td>\n",
       "      <td>0.572423</td>\n",
       "      <td>0.427577</td>\n",
       "      <td>0.128439</td>\n",
       "      <td>0.128439</td>\n",
       "      <td>0.738162</td>\n",
       "      <td>718</td>\n",
       "    </tr>\n",
       "    <tr>\n",
       "      <th>2</th>\n",
       "      <td>chr1</td>\n",
       "      <td>13063645</td>\n",
       "      <td>13065360</td>\n",
       "      <td>SE</td>\n",
       "      <td>0.6214</td>\n",
       "      <td>0.7748</td>\n",
       "      <td>0.1633</td>\n",
       "      <td>0.0000</td>\n",
       "      <td>1.5622</td>\n",
       "      <td>2.5607</td>\n",
       "      <td>...</td>\n",
       "      <td>0.1867</td>\n",
       "      <td>5.2407</td>\n",
       "      <td>0.0000</td>\n",
       "      <td>0.2011</td>\n",
       "      <td>0.592420</td>\n",
       "      <td>0.407580</td>\n",
       "      <td>0.220057</td>\n",
       "      <td>0.230713</td>\n",
       "      <td>0.092711</td>\n",
       "      <td>1715</td>\n",
       "    </tr>\n",
       "    <tr>\n",
       "      <th>3</th>\n",
       "      <td>chr1</td>\n",
       "      <td>13071010</td>\n",
       "      <td>13071067</td>\n",
       "      <td>SE</td>\n",
       "      <td>0.9484</td>\n",
       "      <td>1.8778</td>\n",
       "      <td>0.0000</td>\n",
       "      <td>0.0000</td>\n",
       "      <td>0.8669</td>\n",
       "      <td>1.8424</td>\n",
       "      <td>...</td>\n",
       "      <td>0.0000</td>\n",
       "      <td>1.0517</td>\n",
       "      <td>0.2885</td>\n",
       "      <td>0.4231</td>\n",
       "      <td>0.649123</td>\n",
       "      <td>0.350877</td>\n",
       "      <td>0.050386</td>\n",
       "      <td>0.050386</td>\n",
       "      <td>0.000000</td>\n",
       "      <td>57</td>\n",
       "    </tr>\n",
       "    <tr>\n",
       "      <th>4</th>\n",
       "      <td>chr1</td>\n",
       "      <td>13074460</td>\n",
       "      <td>13075741</td>\n",
       "      <td>SE</td>\n",
       "      <td>1.1076</td>\n",
       "      <td>0.7386</td>\n",
       "      <td>0.0000</td>\n",
       "      <td>0.0000</td>\n",
       "      <td>3.2876</td>\n",
       "      <td>3.8653</td>\n",
       "      <td>...</td>\n",
       "      <td>2.3268</td>\n",
       "      <td>63.2990</td>\n",
       "      <td>34.6054</td>\n",
       "      <td>0.1112</td>\n",
       "      <td>0.548009</td>\n",
       "      <td>0.451991</td>\n",
       "      <td>0.054896</td>\n",
       "      <td>0.054997</td>\n",
       "      <td>0.231850</td>\n",
       "      <td>1281</td>\n",
       "    </tr>\n",
       "  </tbody>\n",
       "</table>\n",
       "<p>5 rows × 41 columns</p>\n",
       "</div>"
      ],
      "text/plain": [
       "  chrom     start       end Class  H3K27ac  H3K4me1  H3K4me3  H3K9me3    Brd4  \\\n",
       "0  chr1  13049615  13050323    SE   0.2018   1.4146   0.0749   0.1198  0.7075   \n",
       "1  chr1  13061206  13061924    SE   0.1342   0.4785   0.5477   0.2809  0.4630   \n",
       "2  chr1  13063645  13065360    SE   0.6214   0.7748   0.1633   0.0000  1.5622   \n",
       "3  chr1  13071010  13071067    SE   0.9484   1.8778   0.0000   0.0000  0.8669   \n",
       "4  chr1  13074460  13075741    SE   1.1076   0.7386   0.0000   0.0000  3.2876   \n",
       "\n",
       "     Cdk8  ...    Klf4   Prdm14  Tcfcp2I1   Nr5a2  AT_content  GC_content  \\\n",
       "0  0.6613  ...  0.4839   1.5489    0.8829  0.1934    0.552260    0.447740   \n",
       "1  1.6258  ...  0.0315   0.1724    0.1641  0.0000    0.572423    0.427577   \n",
       "2  2.5607  ...  0.1867   5.2407    0.0000  0.2011    0.592420    0.407580   \n",
       "3  1.8424  ...  0.0000   1.0517    0.2885  0.4231    0.649123    0.350877   \n",
       "4  3.8653  ...  2.3268  63.2990   34.6054  0.1112    0.548009    0.451991   \n",
       "\n",
       "   phastCons  phastConsP  repeat_fraction  length  \n",
       "0   0.057415    0.057418         0.810734     708  \n",
       "1   0.128439    0.128439         0.738162     718  \n",
       "2   0.220057    0.230713         0.092711    1715  \n",
       "3   0.050386    0.050386         0.000000      57  \n",
       "4   0.054896    0.054997         0.231850    1281  \n",
       "\n",
       "[5 rows x 41 columns]"
      ]
     },
     "execution_count": 6,
     "metadata": {},
     "output_type": "execute_result"
    }
   ],
   "source": [
    "data.head()"
   ]
  },
  {
   "cell_type": "code",
   "execution_count": 7,
   "metadata": {
    "id": "t1QN6M1dho4h"
   },
   "outputs": [],
   "source": [
    "TARGET_COLUMN ='Class'\n",
    "CATEG_FEATURES = ['chrom']\n",
    "CV_SPLITS = 10\n",
    "SMOTE_K_NEIGHBOURS = 5"
   ]
  },
  {
   "cell_type": "code",
   "execution_count": 11,
   "metadata": {
    "colab": {
     "base_uri": "https://localhost:8080/",
     "height": 439
    },
    "id": "RTRxEb-F4pEq",
    "outputId": "745bc39d-17a6-4a73-accf-e8c0dda00341"
   },
   "outputs": [
    {
     "name": "stdout",
     "output_type": "stream",
     "text": [
      "(10020, 41)\n",
      "(10020, 41)\n"
     ]
    }
   ],
   "source": [
    "# Check missing values\n",
    "print(data.shape)\n",
    "print(data.dropna().shape)"
   ]
  },
  {
   "cell_type": "markdown",
   "metadata": {
    "id": "0UClIj02E7ON"
   },
   "source": [
    "Размеры не изменились. "
   ]
  },
  {
   "cell_type": "code",
   "execution_count": 28,
   "metadata": {
    "colab": {
     "base_uri": "https://localhost:8080/"
    },
    "id": "_9wDg2HKFAOt",
    "outputId": "6f20cb36-e241-4228-df68-5de7ecff0d85"
   },
   "outputs": [
    {
     "data": {
      "text/plain": [
       "chrom     object\n",
       "start      int64\n",
       "end        int64\n",
       "Class     object\n",
       "length     int64\n",
       "dtype: object"
      ]
     },
     "execution_count": 28,
     "metadata": {},
     "output_type": "execute_result"
    }
   ],
   "source": [
    "data.dtypes[data.dtypes != float]"
   ]
  },
  {
   "cell_type": "markdown",
   "metadata": {},
   "source": [
    "Только две столбца с именоваными переменными. При это одна из них отклик. "
   ]
  },
  {
   "cell_type": "code",
   "execution_count": 30,
   "metadata": {
    "colab": {
     "base_uri": "https://localhost:8080/",
     "height": 1000
    },
    "id": "fF4JKbSffPsU",
    "outputId": "1081dfd7-dc0e-4db8-a482-11ca8a857ad0"
   },
   "outputs": [
    {
     "data": {
      "text/plain": [
       "array([[<AxesSubplot:title={'center':'start'}>,\n",
       "        <AxesSubplot:title={'center':'end'}>,\n",
       "        <AxesSubplot:title={'center':'H3K27ac'}>,\n",
       "        <AxesSubplot:title={'center':'H3K4me1'}>,\n",
       "        <AxesSubplot:title={'center':'H3K4me3'}>,\n",
       "        <AxesSubplot:title={'center':'H3K9me3'}>],\n",
       "       [<AxesSubplot:title={'center':'Brd4'}>,\n",
       "        <AxesSubplot:title={'center':'Cdk8'}>,\n",
       "        <AxesSubplot:title={'center':'Cdk9'}>,\n",
       "        <AxesSubplot:title={'center':'Med12'}>,\n",
       "        <AxesSubplot:title={'center':'p300'}>,\n",
       "        <AxesSubplot:title={'center':'CBP'}>],\n",
       "       [<AxesSubplot:title={'center':'Pol2'}>,\n",
       "        <AxesSubplot:title={'center':'Lsd1'}>,\n",
       "        <AxesSubplot:title={'center':'Brg1'}>,\n",
       "        <AxesSubplot:title={'center':'Smc1'}>,\n",
       "        <AxesSubplot:title={'center':'Nipbl'}>,\n",
       "        <AxesSubplot:title={'center':'Mi2b'}>],\n",
       "       [<AxesSubplot:title={'center':'CHD7'}>,\n",
       "        <AxesSubplot:title={'center':'HDAC2'}>,\n",
       "        <AxesSubplot:title={'center':'HDAC'}>,\n",
       "        <AxesSubplot:title={'center':'DNaseI'}>,\n",
       "        <AxesSubplot:title={'center':'Oct4'}>,\n",
       "        <AxesSubplot:title={'center':'Sox2'}>],\n",
       "       [<AxesSubplot:title={'center':'Nanog'}>,\n",
       "        <AxesSubplot:title={'center':'Smad3'}>,\n",
       "        <AxesSubplot:title={'center':'Stat3'}>,\n",
       "        <AxesSubplot:title={'center':'Tcf3'}>,\n",
       "        <AxesSubplot:title={'center':'Esrrb'}>,\n",
       "        <AxesSubplot:title={'center':'Klf4'}>],\n",
       "       [<AxesSubplot:title={'center':'Prdm14'}>,\n",
       "        <AxesSubplot:title={'center':'Tcfcp2I1'}>,\n",
       "        <AxesSubplot:title={'center':'Nr5a2'}>,\n",
       "        <AxesSubplot:title={'center':'AT_content'}>,\n",
       "        <AxesSubplot:title={'center':'GC_content'}>,\n",
       "        <AxesSubplot:title={'center':'phastCons'}>],\n",
       "       [<AxesSubplot:title={'center':'phastConsP'}>,\n",
       "        <AxesSubplot:title={'center':'repeat_fraction'}>,\n",
       "        <AxesSubplot:title={'center':'length'}>, <AxesSubplot:>,\n",
       "        <AxesSubplot:>, <AxesSubplot:>]], dtype=object)"
      ]
     },
     "execution_count": 30,
     "metadata": {},
     "output_type": "execute_result"
    },
    {
     "data": {
      "image/png": "[encoded data removed]",
      "text/plain": [
       "<Figure size 1440x720 with 42 Axes>"
      ]
     },
     "metadata": {
      "needs_background": "light"
     },
     "output_type": "display_data"
    }
   ],
   "source": [
    "# Plot histograms of features\n",
    "\n",
    "data.hist(figsize = (20,10))"
   ]
  },
  {
   "cell_type": "code",
   "execution_count": 31,
   "metadata": {
    "id": "gb5Pso2qfU8p"
   },
   "outputs": [],
   "source": [
    "# Split data\n",
    "from sklearn.model_selection import train_test_split, StratifiedKFold\n",
    "\n",
    "y = data[TARGET_COLUMN].map({'TE': 0, 'SE': 1})\n",
    "X = data.drop(columns = [TARGET_COLUMN]+CATEG_FEATURES)\n",
    "\n",
    "X_train_val,  X_test, y_train_val, y_test = train_test_split(X, y, train_size = 0.8, random_state = 42, shuffle = True, stratify = None)\n",
    "\n",
    "skf = StratifiedKFold(n_splits=CV_SPLITS,  random_state=42, shuffle=True)"
   ]
  },
  {
   "cell_type": "code",
   "execution_count": 32,
   "metadata": {
    "colab": {
     "base_uri": "https://localhost:8080/",
     "height": 282
    },
    "id": "su9ioIVT-EXg",
    "outputId": "541a29f0-ce23-446c-addf-7b73c1b93a08"
   },
   "outputs": [
    {
     "data": {
      "text/plain": [
       "<AxesSubplot:>"
      ]
     },
     "execution_count": 32,
     "metadata": {},
     "output_type": "execute_result"
    },
    {
     "data": {
      "image/png": "[encoded data removed]",
      "text/plain": [
       "<Figure size 432x288 with 1 Axes>"
      ]
     },
     "metadata": {
      "needs_background": "light"
     },
     "output_type": "display_data"
    }
   ],
   "source": [
    "# Check class imbalance\n",
    "y.hist()"
   ]
  },
  {
   "cell_type": "markdown",
   "metadata": {
    "id": "bcF4AeGxlDtS"
   },
   "source": [
    "#### Task 1 (3 points)\n",
    "\n",
    "Encode `CATEG_FEATURES` during preprocessing and compare results of the models with/without this feature. \n",
    "What type of encoding is it better to use?"
   ]
  },
  {
   "cell_type": "markdown",
   "metadata": {
    "id": "2eUeHGE9CsZR"
   },
   "source": [
    "Теперь сделаем таблицу где мы не выкидываем из рассмотрения колонку 'chrom'. С помощью one-hot-encoding  сделаем новые столбцы. Сначала проверим какие есть значения в ячейках. "
   ]
  },
  {
   "cell_type": "code",
   "execution_count": 33,
   "metadata": {},
   "outputs": [],
   "source": [
    "data2 = data.copy()"
   ]
  },
  {
   "cell_type": "code",
   "execution_count": 34,
   "metadata": {
    "colab": {
     "base_uri": "https://localhost:8080/"
    },
    "id": "q5FWEmQ6F0A2",
    "outputId": "1d2bb8a9-86d7-4771-cfc9-2eb80ca7f798"
   },
   "outputs": [
    {
     "name": "stdout",
     "output_type": "stream",
     "text": [
      "['chr1' 'chr10' 'chr11' 'chr12' 'chr13' 'chr14' 'chr15' 'chr16' 'chr17'\n",
      " 'chr18' 'chr19' 'chr2' 'chr3' 'chr4' 'chr5' 'chr6' 'chr7' 'chr8' 'chr9'\n",
      " 'chrX']\n"
     ]
    }
   ],
   "source": [
    "a = np.unique(data2['chrom'])\n",
    "a.sort()\n",
    "print(a)"
   ]
  },
  {
   "cell_type": "markdown",
   "metadata": {
    "id": "Axagd9m1Hset"
   },
   "source": [
    "  Закодируем все хромосомы кроме X, для того, чтобы избежать коллинеарности в данных. "
   ]
  },
  {
   "cell_type": "code",
   "execution_count": 35,
   "metadata": {
    "id": "3BGQYE73GToQ"
   },
   "outputs": [],
   "source": [
    "data2[\"chr1\"] = list(map(int, data2['chrom']=='chr1'))\n",
    "data2[\"chr2\"] = list(map(int, data2['chrom']=='chr2'))\n",
    "data2[\"chr3\"] = list(map(int, data2['chrom']=='chr3'))\n",
    "data2[\"chr4\"] = list(map(int, data2['chrom']=='chr4'))\n",
    "data2[\"chr5\"] = list(map(int, data2['chrom']=='chr5'))\n",
    "data2[\"chr6\"] = list(map(int, data2['chrom']=='chr6'))\n",
    "data2[\"chr7\"] = list(map(int, data2['chrom']=='chr7'))\n",
    "data2[\"chr8\"] = list(map(int, data2['chrom']=='chr8'))\n",
    "data2[\"chr9\"] = list(map(int, data2['chrom']=='chr9'))\n",
    "data2[\"chr10\"] = list(map(int, data2['chrom']=='chr10'))\n",
    "data2[\"chr11\"] = list(map(int, data2['chrom']=='chr11'))\n",
    "data2[\"chr12\"] = list(map(int, data2['chrom']=='chr12'))\n",
    "data2[\"chr13\"] = list(map(int, data2['chrom']=='chr13'))\n",
    "data2[\"chr14\"] = list(map(int, data2['chrom']=='chr14'))\n",
    "data2[\"chr15\"] = list(map(int, data2['chrom']=='chr15'))\n",
    "data2[\"chr16\"] = list(map(int, data2['chrom']=='chr16'))\n",
    "data2[\"chr17\"] = list(map(int, data2['chrom']=='chr17'))\n",
    "data2[\"chr18\"] = list(map(int, data2['chrom']=='chr18'))\n",
    "data2[\"chr19\"] = list(map(int, data2['chrom']=='chr19'))"
   ]
  },
  {
   "cell_type": "code",
   "execution_count": 36,
   "metadata": {},
   "outputs": [],
   "source": [
    "data2 = data2.drop(columns = ['chrom'])"
   ]
  },
  {
   "cell_type": "code",
   "execution_count": 64,
   "metadata": {},
   "outputs": [],
   "source": [
    "# Split data\n",
    "from sklearn.model_selection import train_test_split, StratifiedKFold\n",
    "\n",
    "y = data2[TARGET_COLUMN].map({'TE': 0, 'SE': 1})\n",
    "X_up = data2.drop(columns = [TARGET_COLUMN])\n",
    "\n",
    "X_train_val_up,  X_test_up, y_train_val_up, y_test_up = train_test_split(X_up, y, train_size = 0.8, random_state = 42, shuffle = True, stratify = None)\n",
    "\n",
    "skf = StratifiedKFold(n_splits=CV_SPLITS,  random_state=42, shuffle=True)"
   ]
  },
  {
   "cell_type": "markdown",
   "metadata": {
    "id": "23QFqXoq6Nt-"
   },
   "source": [
    "# 2. Create model"
   ]
  },
  {
   "cell_type": "markdown",
   "metadata": {
    "id": "e96pZ-ajsgpv"
   },
   "source": [
    "1. Fix class imbalance\n",
    "2. Optimize model's hyperparameters\n",
    "3. Train RandomForest model with cross-validation\n",
    "4. Check ROC-AUC score for the model with best parameters"
   ]
  },
  {
   "cell_type": "code",
   "execution_count": 43,
   "metadata": {
    "id": "LIkt4zFZiLZj"
   },
   "outputs": [],
   "source": [
    "from sklearn.model_selection import GridSearchCV\n",
    "from sklearn.ensemble import RandomForestClassifier\n",
    "from sklearn.tree import DecisionTreeClassifier\n",
    "from imblearn.pipeline import Pipeline\n",
    "from imblearn.over_sampling import SMOTE\n",
    "from sklearn.metrics import roc_auc_score\n",
    "import sklearn"
   ]
  },
  {
   "cell_type": "code",
   "execution_count": 44,
   "metadata": {
    "id": "tF1zkT7piyuY"
   },
   "outputs": [],
   "source": [
    "def get_model(model):\n",
    "    '''\n",
    "    Get the model from six stat-of-the-art machine learning models.\n",
    "    '''\n",
    "    if model=='svm':\n",
    "        from sklearn.svm import SVC\n",
    "        names = [\"Linear SVM\"]\n",
    "        classifiers = [\n",
    "        SVC()    \n",
    "        ]\n",
    "    elif model=='ab':\n",
    "        from sklearn.ensemble import AdaBoostClassifier\n",
    "        names = [\"AdaBoost\"]\n",
    "        classifiers = [\n",
    "        AdaBoostClassifier() \n",
    "        ]\n",
    "    elif model=='knn':\n",
    "        from sklearn.neighbors import KNeighborsClassifier\n",
    "        names = [\"K-Nearest Neighbors\"]\n",
    "        classifiers = [\n",
    "        KNeighborsClassifier()\n",
    "        ]\n",
    "    elif model=='dt':\n",
    "        from sklearn.tree import DecisionTreeClassifier\n",
    "        names = [\"Decision Tree\"]\n",
    "        classifiers = [\n",
    "        DecisionTreeClassifier()   \n",
    "        ]\n",
    "    elif model=='nb':\n",
    "        from sklearn.naive_bayes import GaussianNB\n",
    "        names = [\"Naive Bayes\"]\n",
    "        classifiers = [\n",
    "         GaussianNB()   \n",
    "        ]\n",
    "    else:\n",
    "        from sklearn.ensemble import RandomForestClassifier\n",
    "        names = [\"Random Forest\"]\n",
    "        classifiers = [\n",
    "        RandomForestClassifier()\n",
    "        ]\n",
    "    \n",
    "    return classifiers"
   ]
  },
  {
   "cell_type": "markdown",
   "metadata": {},
   "source": [
    "Найдём параметры лушего леса, подбор только глубины"
   ]
  },
  {
   "cell_type": "code",
   "execution_count": 45,
   "metadata": {
    "colab": {
     "base_uri": "https://localhost:8080/"
    },
    "id": "rpNeaKjtgOfI",
    "outputId": "6d3299c9-5d6e-4b3c-a891-073d2fa45058"
   },
   "outputs": [],
   "source": [
    "model = get_model('dt')[0]\n",
    "parameters = {'model__max_depth':(3, 5, 7)}\n",
    "over = SMOTE(sampling_strategy=0.1, k_neighbors=SMOTE_K_NEIGHBOURS)\n",
    "steps = [('over', over), ('model', model)]\n",
    "pipeline = Pipeline(steps=steps)\n",
    "clf = GridSearchCV(pipeline, parameters, scoring='roc_auc', cv=skf, n_jobs=-1)\n",
    "_ = clf.fit(X_train_val, y_train_val)\n"
   ]
  },
  {
   "cell_type": "code",
   "execution_count": 46,
   "metadata": {
    "colab": {
     "base_uri": "https://localhost:8080/"
    },
    "id": "8IoexK7lmwzB",
    "outputId": "bd2d0831-f6ed-4e1a-d437-808333c59011"
   },
   "outputs": [
    {
     "data": {
      "text/plain": [
       "{'model__max_depth': 3}"
      ]
     },
     "execution_count": 46,
     "metadata": {},
     "output_type": "execute_result"
    }
   ],
   "source": [
    "clf.best_params_"
   ]
  },
  {
   "cell_type": "code",
   "execution_count": 47,
   "metadata": {
    "colab": {
     "base_uri": "https://localhost:8080/"
    },
    "id": "Gty_tdznoqkD",
    "outputId": "d53d06d4-ce55-466d-8c2b-0869d7420c80"
   },
   "outputs": [],
   "source": [
    "best_model = DecisionTreeClassifier(max_depth = 3)\n",
    "steps = [('over', over), ('model', best_model)]\n",
    "pipeline = Pipeline(steps=steps)\n",
    "_ = pipeline.fit(X_train_val, y_train_val)"
   ]
  },
  {
   "cell_type": "code",
   "execution_count": 48,
   "metadata": {
    "id": "t2RHteZppiBi"
   },
   "outputs": [],
   "source": [
    "y_test_pred_proba = pipeline[1].predict_proba(X_test)[:,1]"
   ]
  },
  {
   "cell_type": "code",
   "execution_count": 54,
   "metadata": {
    "colab": {
     "base_uri": "https://localhost:8080/"
    },
    "id": "Q2nMLhF4p17u",
    "outputId": "1d52e4ba-6d66-41ae-f746-3b50f65aa3d2"
   },
   "outputs": [
    {
     "name": "stdout",
     "output_type": "stream",
     "text": [
      "Test ROC AUC for the best model 0.88\n"
     ]
    }
   ],
   "source": [
    "print('Test ROC AUC for the best model %.2f' % roc_auc_score(y_test, y_test_pred_proba))"
   ]
  },
  {
   "cell_type": "markdown",
   "metadata": {},
   "source": [
    "Будем искать и параметры для SMOTE"
   ]
  },
  {
   "cell_type": "code",
   "execution_count": 50,
   "metadata": {
    "colab": {
     "base_uri": "https://localhost:8080/"
    },
    "id": "8_5jNCNjlckR",
    "outputId": "ac7d9907-1d3f-441f-fb99-cb6a193652ff"
   },
   "outputs": [],
   "source": [
    "# Add SMOTE k_neighbours parameter to the search grid\n",
    "model = get_model('dt')[0]\n",
    "parameters = {'model__max_depth':(3, 5, 7), 'over__k_neighbors':(5, 10)}\n",
    "over = SMOTE(sampling_strategy=0.1)\n",
    "steps = [('over', over), ('model', model)]\n",
    "pipeline = Pipeline(steps=steps)\n",
    "clf = GridSearchCV(pipeline, parameters, scoring='roc_auc', cv=skf, n_jobs=-1)\n",
    "_ = clf.fit(X_train_val, y_train_val)\n"
   ]
  },
  {
   "cell_type": "code",
   "execution_count": 51,
   "metadata": {
    "colab": {
     "base_uri": "https://localhost:8080/"
    },
    "id": "QnTi9ya6sbc4",
    "outputId": "0dce1948-75d0-42d7-fe23-4c4f8b0580d2"
   },
   "outputs": [],
   "source": [
    "# Optimize Random Forest model\n",
    "model = get_model('Random Forest')[0]\n",
    "parameters = {'model__max_depth':(3, 5, 7), 'model__n_estimators': (100, 200), 'over__sampling_strategy':(0.1, 0.8)}\n",
    "over = SMOTE(k_neighbors=SMOTE_K_NEIGHBOURS)\n",
    "steps = [('over', over), ('model', model)]\n",
    "pipeline = Pipeline(steps=steps)\n",
    "clf = GridSearchCV(pipeline, parameters, scoring='roc_auc', cv=skf, n_jobs=-1)\n",
    "_ = clf.fit(X_train_val, y_train_val)"
   ]
  },
  {
   "cell_type": "code",
   "execution_count": 52,
   "metadata": {
    "colab": {
     "base_uri": "https://localhost:8080/"
    },
    "id": "5trs1DoaOKsu",
    "outputId": "0e65365d-6010-45ad-da4c-136c4a823c20"
   },
   "outputs": [
    {
     "data": {
      "text/plain": [
       "{'model__max_depth': 7,\n",
       " 'model__n_estimators': 100,\n",
       " 'over__sampling_strategy': 0.1}"
      ]
     },
     "execution_count": 52,
     "metadata": {},
     "output_type": "execute_result"
    }
   ],
   "source": [
    "clf.best_params_"
   ]
  },
  {
   "cell_type": "code",
   "execution_count": 55,
   "metadata": {
    "colab": {
     "base_uri": "https://localhost:8080/"
    },
    "id": "hvRLT2sgONCH",
    "outputId": "921ffa83-2aef-4bc3-eb9c-6be6fe669780"
   },
   "outputs": [],
   "source": [
    "best_model = RandomForestClassifier(max_depth = 7, n_estimators = 100,)\n",
    "over = SMOTE(sampling_strategy=0.1, k_neighbors=SMOTE_K_NEIGHBOURS)\n",
    "steps = [('over', over), ('model', best_model)]\n",
    "pipeline = Pipeline(steps=steps)\n",
    "_ = pipeline.fit(X_train_val, y_train_val)\n",
    "y_test_pred_proba = pipeline[1].predict_proba(X_test)[:,1]"
   ]
  },
  {
   "cell_type": "code",
   "execution_count": 56,
   "metadata": {},
   "outputs": [
    {
     "name": "stdout",
     "output_type": "stream",
     "text": [
      "Test ROC AUC for the best model 0.92\n"
     ]
    }
   ],
   "source": [
    "print('Test ROC AUC for the best model %.2f' % roc_auc_score(y_test, y_test_pred_proba))"
   ]
  },
  {
   "cell_type": "markdown",
   "metadata": {},
   "source": [
    "Рассмотрим модель на модифицированных данных"
   ]
  },
  {
   "cell_type": "code",
   "execution_count": 59,
   "metadata": {},
   "outputs": [],
   "source": [
    "model = get_model('Random Forest')[0]\n",
    "parameters = {'model__max_depth':(3, 5, 7), 'model__n_estimators': (100, 200), 'over__sampling_strategy':(0.1, 0.8)}\n",
    "over = SMOTE(k_neighbors=SMOTE_K_NEIGHBOURS)\n",
    "steps = [('over', over), ('model', model)]\n",
    "pipeline = Pipeline(steps=steps)\n",
    "clf = GridSearchCV(pipeline, parameters, scoring='roc_auc', cv=skf, n_jobs=-1)\n",
    "_ = clf.fit(X_train_val_up, y_train_val_up)"
   ]
  },
  {
   "cell_type": "code",
   "execution_count": 60,
   "metadata": {},
   "outputs": [
    {
     "data": {
      "text/plain": [
       "{'model__max_depth': 7,\n",
       " 'model__n_estimators': 200,\n",
       " 'over__sampling_strategy': 0.1}"
      ]
     },
     "execution_count": 60,
     "metadata": {},
     "output_type": "execute_result"
    }
   ],
   "source": [
    "clf.best_params_"
   ]
  },
  {
   "cell_type": "code",
   "execution_count": 62,
   "metadata": {},
   "outputs": [
    {
     "name": "stdout",
     "output_type": "stream",
     "text": [
      "Test ROC AUC for the best model 0.926\n"
     ]
    }
   ],
   "source": [
    "best_model = RandomForestClassifier(max_depth = 7, n_estimators = 200)\n",
    "over = SMOTE(sampling_strategy=0.1, k_neighbors=SMOTE_K_NEIGHBOURS)\n",
    "steps = [('over', over), ('model', best_model)]\n",
    "pipeline = Pipeline(steps=steps)\n",
    "_ = pipeline.fit(X_train_val_up, y_train_val_up)\n",
    "y_test_pred_proba = pipeline[1].predict_proba(X_test_up)[:,1]\n",
    "print('Test ROC AUC for the best model %.3f' % roc_auc_score(y_test_up, y_test_pred_proba))"
   ]
  },
  {
   "cell_type": "markdown",
   "metadata": {},
   "source": [
    "Как видно, если в модель добавить кодирование хромасом, то значение показателя качества увелиться, но не существенно. "
   ]
  },
  {
   "cell_type": "markdown",
   "metadata": {
    "id": "OYdNuZOSm3yE"
   },
   "source": [
    "#### Task 2 (9 points)\n",
    "\n",
    "Try other models from the list of SOTA models and fit the set of parameters.\n",
    "\n",
    "* Add needed preprocessing steps (3 points). \n",
    "\n",
    "* What assumptions do you need to check before using NB classifier? (2 points). \n",
    "\n",
    "* Try to use XGBoost model,  optimize it parameters. (3 points)\n",
    "\n",
    "(Consider using XGBoost with GPU - https://xgboost.readthedocs.io/en/latest/gpu/index.html)\n",
    "\n",
    "* What model has the best test score? (1 point)\n",
    "\n"
   ]
  },
  {
   "cell_type": "markdown",
   "metadata": {
    "id": "U-X4b_q7xJFd"
   },
   "source": [
    "Для начала проведём нормализацию данных (так как для остальных методов необходимы отшкалированные данные). А также удалим явно зависимые столбцы (например длинна является разницей столбцов начала и конца, а также сумма ), чтобы наивный баес мог хоть как-то адекватно работать.  "
   ]
  },
  {
   "cell_type": "code",
   "execution_count": 66,
   "metadata": {
    "colab": {
     "base_uri": "https://localhost:8080/",
     "height": 215
    },
    "id": "zCKTK8btxHuh",
    "outputId": "551f4e5d-eed3-452b-da76-f63eadbd69d4"
   },
   "outputs": [
    {
     "data": {
      "text/html": [
       "<div>\n",
       "<style scoped>\n",
       "    .dataframe tbody tr th:only-of-type {\n",
       "        vertical-align: middle;\n",
       "    }\n",
       "\n",
       "    .dataframe tbody tr th {\n",
       "        vertical-align: top;\n",
       "    }\n",
       "\n",
       "    .dataframe thead th {\n",
       "        text-align: right;\n",
       "    }\n",
       "</style>\n",
       "<table border=\"1\" class=\"dataframe\">\n",
       "  <thead>\n",
       "    <tr style=\"text-align: right;\">\n",
       "      <th></th>\n",
       "      <th>start</th>\n",
       "      <th>end</th>\n",
       "      <th>H3K27ac</th>\n",
       "      <th>H3K4me1</th>\n",
       "      <th>H3K4me3</th>\n",
       "      <th>H3K9me3</th>\n",
       "      <th>Brd4</th>\n",
       "      <th>Cdk8</th>\n",
       "      <th>Cdk9</th>\n",
       "      <th>Med12</th>\n",
       "      <th>...</th>\n",
       "      <th>chr10</th>\n",
       "      <th>chr11</th>\n",
       "      <th>chr12</th>\n",
       "      <th>chr13</th>\n",
       "      <th>chr14</th>\n",
       "      <th>chr15</th>\n",
       "      <th>chr16</th>\n",
       "      <th>chr17</th>\n",
       "      <th>chr18</th>\n",
       "      <th>chr19</th>\n",
       "    </tr>\n",
       "  </thead>\n",
       "  <tbody>\n",
       "    <tr>\n",
       "      <th>0</th>\n",
       "      <td>-1.377083</td>\n",
       "      <td>-1.377083</td>\n",
       "      <td>-0.348632</td>\n",
       "      <td>1.562065</td>\n",
       "      <td>-0.338394</td>\n",
       "      <td>0.353912</td>\n",
       "      <td>-0.041691</td>\n",
       "      <td>-0.119138</td>\n",
       "      <td>0.308567</td>\n",
       "      <td>-0.098194</td>\n",
       "      <td>...</td>\n",
       "      <td>-0.255495</td>\n",
       "      <td>-0.27025</td>\n",
       "      <td>-0.217349</td>\n",
       "      <td>-0.234196</td>\n",
       "      <td>-0.218856</td>\n",
       "      <td>-0.194985</td>\n",
       "      <td>-0.187414</td>\n",
       "      <td>-0.219356</td>\n",
       "      <td>-0.1828</td>\n",
       "      <td>-0.041225</td>\n",
       "    </tr>\n",
       "    <tr>\n",
       "      <th>1</th>\n",
       "      <td>-1.376826</td>\n",
       "      <td>-1.376825</td>\n",
       "      <td>-0.407592</td>\n",
       "      <td>-0.288710</td>\n",
       "      <td>0.242221</td>\n",
       "      <td>1.363730</td>\n",
       "      <td>-0.229199</td>\n",
       "      <td>0.941643</td>\n",
       "      <td>0.205870</td>\n",
       "      <td>-0.084782</td>\n",
       "      <td>...</td>\n",
       "      <td>-0.255495</td>\n",
       "      <td>-0.27025</td>\n",
       "      <td>-0.217349</td>\n",
       "      <td>-0.234196</td>\n",
       "      <td>-0.218856</td>\n",
       "      <td>-0.194985</td>\n",
       "      <td>-0.187414</td>\n",
       "      <td>-0.219356</td>\n",
       "      <td>-0.1828</td>\n",
       "      <td>-0.041225</td>\n",
       "    </tr>\n",
       "    <tr>\n",
       "      <th>2</th>\n",
       "      <td>-1.376771</td>\n",
       "      <td>-1.376749</td>\n",
       "      <td>0.017340</td>\n",
       "      <td>0.297109</td>\n",
       "      <td>-0.229835</td>\n",
       "      <td>-0.397025</td>\n",
       "      <td>0.613781</td>\n",
       "      <td>1.969869</td>\n",
       "      <td>0.960634</td>\n",
       "      <td>0.637503</td>\n",
       "      <td>...</td>\n",
       "      <td>-0.255495</td>\n",
       "      <td>-0.27025</td>\n",
       "      <td>-0.217349</td>\n",
       "      <td>-0.234196</td>\n",
       "      <td>-0.218856</td>\n",
       "      <td>-0.194985</td>\n",
       "      <td>-0.187414</td>\n",
       "      <td>-0.219356</td>\n",
       "      <td>-0.1828</td>\n",
       "      <td>-0.041225</td>\n",
       "    </tr>\n",
       "    <tr>\n",
       "      <th>3</th>\n",
       "      <td>-1.376608</td>\n",
       "      <td>-1.376622</td>\n",
       "      <td>0.302548</td>\n",
       "      <td>2.477863</td>\n",
       "      <td>-0.430373</td>\n",
       "      <td>-0.397025</td>\n",
       "      <td>0.080553</td>\n",
       "      <td>1.179865</td>\n",
       "      <td>0.395372</td>\n",
       "      <td>-0.464049</td>\n",
       "      <td>...</td>\n",
       "      <td>-0.255495</td>\n",
       "      <td>-0.27025</td>\n",
       "      <td>-0.217349</td>\n",
       "      <td>-0.234196</td>\n",
       "      <td>-0.218856</td>\n",
       "      <td>-0.194985</td>\n",
       "      <td>-0.187414</td>\n",
       "      <td>-0.219356</td>\n",
       "      <td>-0.1828</td>\n",
       "      <td>-0.041225</td>\n",
       "    </tr>\n",
       "    <tr>\n",
       "      <th>4</th>\n",
       "      <td>-1.376531</td>\n",
       "      <td>-1.376518</td>\n",
       "      <td>0.441401</td>\n",
       "      <td>0.225537</td>\n",
       "      <td>-0.430373</td>\n",
       "      <td>-0.397025</td>\n",
       "      <td>1.936997</td>\n",
       "      <td>3.404701</td>\n",
       "      <td>2.127211</td>\n",
       "      <td>3.393990</td>\n",
       "      <td>...</td>\n",
       "      <td>-0.255495</td>\n",
       "      <td>-0.27025</td>\n",
       "      <td>-0.217349</td>\n",
       "      <td>-0.234196</td>\n",
       "      <td>-0.218856</td>\n",
       "      <td>-0.194985</td>\n",
       "      <td>-0.187414</td>\n",
       "      <td>-0.219356</td>\n",
       "      <td>-0.1828</td>\n",
       "      <td>-0.041225</td>\n",
       "    </tr>\n",
       "  </tbody>\n",
       "</table>\n",
       "<p>5 rows × 56 columns</p>\n",
       "</div>"
      ],
      "text/plain": [
       "      start       end   H3K27ac   H3K4me1   H3K4me3   H3K9me3      Brd4  \\\n",
       "0 -1.377083 -1.377083 -0.348632  1.562065 -0.338394  0.353912 -0.041691   \n",
       "1 -1.376826 -1.376825 -0.407592 -0.288710  0.242221  1.363730 -0.229199   \n",
       "2 -1.376771 -1.376749  0.017340  0.297109 -0.229835 -0.397025  0.613781   \n",
       "3 -1.376608 -1.376622  0.302548  2.477863 -0.430373 -0.397025  0.080553   \n",
       "4 -1.376531 -1.376518  0.441401  0.225537 -0.430373 -0.397025  1.936997   \n",
       "\n",
       "       Cdk8      Cdk9     Med12  ...     chr10    chr11     chr12     chr13  \\\n",
       "0 -0.119138  0.308567 -0.098194  ... -0.255495 -0.27025 -0.217349 -0.234196   \n",
       "1  0.941643  0.205870 -0.084782  ... -0.255495 -0.27025 -0.217349 -0.234196   \n",
       "2  1.969869  0.960634  0.637503  ... -0.255495 -0.27025 -0.217349 -0.234196   \n",
       "3  1.179865  0.395372 -0.464049  ... -0.255495 -0.27025 -0.217349 -0.234196   \n",
       "4  3.404701  2.127211  3.393990  ... -0.255495 -0.27025 -0.217349 -0.234196   \n",
       "\n",
       "      chr14     chr15     chr16     chr17   chr18     chr19  \n",
       "0 -0.218856 -0.194985 -0.187414 -0.219356 -0.1828 -0.041225  \n",
       "1 -0.218856 -0.194985 -0.187414 -0.219356 -0.1828 -0.041225  \n",
       "2 -0.218856 -0.194985 -0.187414 -0.219356 -0.1828 -0.041225  \n",
       "3 -0.218856 -0.194985 -0.187414 -0.219356 -0.1828 -0.041225  \n",
       "4 -0.218856 -0.194985 -0.187414 -0.219356 -0.1828 -0.041225  \n",
       "\n",
       "[5 rows x 56 columns]"
      ]
     },
     "execution_count": 66,
     "metadata": {},
     "output_type": "execute_result"
    }
   ],
   "source": [
    "from sklearn import preprocessing\n",
    "\n",
    "# data2 = data2.drop(columns = ['AT_content', 'length', 'chrom'])\n",
    "\n",
    "\n",
    "stand_1 = preprocessing.StandardScaler()\n",
    "stand_1.fit(X_up)\n",
    "X_up = stand_1.transform(X_up)\n",
    "X_up = pd.DataFrame(X_up, index=data2.drop(columns = ['Class']).index, columns=data2.drop(columns = ['Class']).columns)\n",
    "X_up = X_up.drop(columns = ['AT_content', 'length'])\n",
    "X_up.head()"
   ]
  },
  {
   "cell_type": "markdown",
   "metadata": {},
   "source": [
    "Используем остальные методы из списка. "
   ]
  },
  {
   "cell_type": "code",
   "execution_count": 67,
   "metadata": {},
   "outputs": [],
   "source": [
    "X_train_val_up,  X_test_up, y_train_val_up, y_test_up = train_test_split(X_up, y, train_size = 0.8, random_state = 42, shuffle = True, stratify = None)"
   ]
  },
  {
   "cell_type": "markdown",
   "metadata": {},
   "source": [
    "Linear SVM"
   ]
  },
  {
   "cell_type": "code",
   "execution_count": 68,
   "metadata": {},
   "outputs": [],
   "source": [
    "model = get_model('svm')[0]\n",
    "parameters = {'model__kernel':('poly', 'linear', 'rbf'), 'over__k_neighbors':(5, 10)}\n",
    "over = SMOTE(sampling_strategy=0.1)\n",
    "steps = [('over', over), ('model', model)]\n",
    "pipeline = Pipeline(steps=steps)\n",
    "clf = GridSearchCV(pipeline, parameters, scoring='roc_auc', cv=skf, n_jobs=-1)\n",
    "_ = clf.fit(X_train_val_up, y_train_val_up)"
   ]
  },
  {
   "cell_type": "code",
   "execution_count": 69,
   "metadata": {},
   "outputs": [
    {
     "name": "stdout",
     "output_type": "stream",
     "text": [
      "{'model__kernel': 'linear', 'over__k_neighbors': 10}\n"
     ]
    }
   ],
   "source": [
    "print(clf.best_params_)"
   ]
  },
  {
   "cell_type": "code",
   "execution_count": 125,
   "metadata": {},
   "outputs": [],
   "source": [
    "best_model = sklearn.svm.SVC(kernel = 'linear')\n",
    "over = SMOTE(sampling_strategy=0.1, k_neighbors=10)\n",
    "steps = [('over', over), ('model', best_model)]\n",
    "pipeline = Pipeline(steps=steps)\n",
    "_ = pipeline.fit(X_train_val_up, y_train_val_up)"
   ]
  },
  {
   "cell_type": "code",
   "execution_count": 126,
   "metadata": {},
   "outputs": [
    {
     "name": "stdout",
     "output_type": "stream",
     "text": [
      " f1-score: 0.5414847161572053\n"
     ]
    }
   ],
   "source": [
    "y_test_up_pred = pipeline[1].predict(X_test_up)# [:,1]\n",
    "print(f' f1-score: {sklearn.metrics.f1_score(y_test_up, y_test_up_pred)}')"
   ]
  },
  {
   "cell_type": "markdown",
   "metadata": {},
   "source": [
    "AdaBoost"
   ]
  },
  {
   "cell_type": "code",
   "execution_count": 78,
   "metadata": {},
   "outputs": [],
   "source": [
    "model = get_model('ab')[0]\n",
    "parameters = {'model__n_estimators':(50, 100, 200), 'over__k_neighbors':(5, 10)}\n",
    "over = SMOTE(sampling_strategy=0.1)\n",
    "steps = [('over', over), ('model', model)]\n",
    "pipeline = Pipeline(steps=steps)\n",
    "clf = GridSearchCV(pipeline, parameters, scoring='roc_auc', cv=skf, n_jobs=-1)\n",
    "_ = clf.fit(X_train_val_up, y_train_val_up)"
   ]
  },
  {
   "cell_type": "code",
   "execution_count": 79,
   "metadata": {},
   "outputs": [
    {
     "name": "stdout",
     "output_type": "stream",
     "text": [
      "{'model__n_estimators': 50, 'over__k_neighbors': 5}\n"
     ]
    }
   ],
   "source": [
    "print(clf.best_params_)"
   ]
  },
  {
   "cell_type": "code",
   "execution_count": 122,
   "metadata": {},
   "outputs": [],
   "source": [
    "best_model = sklearn.ensemble.AdaBoostClassifier(n_estimators = 50)\n",
    "over = SMOTE(sampling_strategy=0.1, k_neighbors=5)\n",
    "steps = [('over', over), ('model', best_model)]\n",
    "pipeline = Pipeline(steps=steps)\n",
    "_ = pipeline.fit(X_train_val_up, y_train_val_up)"
   ]
  },
  {
   "cell_type": "code",
   "execution_count": 123,
   "metadata": {},
   "outputs": [
    {
     "name": "stdout",
     "output_type": "stream",
     "text": [
      " f1-score: 0.5284552845528455\n"
     ]
    }
   ],
   "source": [
    "y_test_up_pred = pipeline[1].predict(X_test_up)# [:,1]\n",
    "print(f' f1-score: {sklearn.metrics.f1_score(y_test_up, y_test_up_pred)}')"
   ]
  },
  {
   "cell_type": "code",
   "execution_count": 124,
   "metadata": {},
   "outputs": [
    {
     "name": "stdout",
     "output_type": "stream",
     "text": [
      "Test ROC AUC for the best model 0.927\n"
     ]
    }
   ],
   "source": [
    "y_test_pred_proba = pipeline[1].predict_proba(X_test_up)[:,1]\n",
    "print('Test ROC AUC for the best model %.3f' % roc_auc_score(y_test_up, y_test_pred_proba))"
   ]
  },
  {
   "cell_type": "markdown",
   "metadata": {},
   "source": [
    "K-Nearest Neighbors"
   ]
  },
  {
   "cell_type": "code",
   "execution_count": 117,
   "metadata": {},
   "outputs": [],
   "source": [
    "model = get_model('knn')[0]\n",
    "parameters = {'model__n_neighbors':(2, 5, 10, 20, 30), 'over__k_neighbors':(5, 10, 15)}\n",
    "over = SMOTE(sampling_strategy=0.1)\n",
    "steps = [('over', over), ('model', model)]\n",
    "pipeline = Pipeline(steps=steps)\n",
    "clf = GridSearchCV(pipeline, parameters, scoring='roc_auc', cv=skf, n_jobs=-1)\n",
    "_ = clf.fit(X_train_val_up, y_train_val_up)"
   ]
  },
  {
   "cell_type": "code",
   "execution_count": 118,
   "metadata": {},
   "outputs": [
    {
     "name": "stdout",
     "output_type": "stream",
     "text": [
      "{'model__n_neighbors': 30, 'over__k_neighbors': 10}\n"
     ]
    }
   ],
   "source": [
    "print(clf.best_params_)"
   ]
  },
  {
   "cell_type": "code",
   "execution_count": 119,
   "metadata": {},
   "outputs": [],
   "source": [
    "best_model = sklearn.neighbors.KNeighborsClassifier(n_neighbors = 30)\n",
    "over = SMOTE(sampling_strategy=0.1, k_neighbors=10)\n",
    "steps = [('over', over), ('model', best_model)]\n",
    "pipeline = Pipeline(steps=steps)\n",
    "_ = pipeline.fit(X_train_val_up, y_train_val_up)"
   ]
  },
  {
   "cell_type": "code",
   "execution_count": 120,
   "metadata": {},
   "outputs": [
    {
     "name": "stdout",
     "output_type": "stream",
     "text": [
      " f1-score: 0.4148936170212766\n"
     ]
    }
   ],
   "source": [
    "y_test_up_pred = pipeline[1].predict(X_test_up)# [:,1]\n",
    "print(f' f1-score: {sklearn.metrics.f1_score(y_test_up, y_test_up_pred)}')"
   ]
  },
  {
   "cell_type": "code",
   "execution_count": 121,
   "metadata": {},
   "outputs": [
    {
     "name": "stdout",
     "output_type": "stream",
     "text": [
      "Test ROC AUC for the best model 0.878\n"
     ]
    }
   ],
   "source": [
    "y_test_pred_proba = pipeline[1].predict_proba(X_test_up)[:,1]\n",
    "print('Test ROC AUC for the best model %.3f' % roc_auc_score(y_test_up, y_test_pred_proba))"
   ]
  },
  {
   "cell_type": "markdown",
   "metadata": {},
   "source": [
    "Decision Tree"
   ]
  },
  {
   "cell_type": "code",
   "execution_count": 110,
   "metadata": {},
   "outputs": [],
   "source": [
    "model = get_model('dt')[0]\n",
    "parameters = {'model__max_depth':(3, 5, 7), 'over__k_neighbors':(5, 10, 15)}\n",
    "over = SMOTE(sampling_strategy=0.1)\n",
    "steps = [('over', over), ('model', model)]\n",
    "pipeline = Pipeline(steps=steps)\n",
    "clf = GridSearchCV(pipeline, parameters, scoring='roc_auc', cv=skf, n_jobs=-1)\n",
    "_ = clf.fit(X_train_val_up, y_train_val_up)"
   ]
  },
  {
   "cell_type": "code",
   "execution_count": 111,
   "metadata": {},
   "outputs": [
    {
     "name": "stdout",
     "output_type": "stream",
     "text": [
      "{'model__max_depth': 3, 'over__k_neighbors': 5}\n"
     ]
    }
   ],
   "source": [
    "print(clf.best_params_)"
   ]
  },
  {
   "cell_type": "code",
   "execution_count": 114,
   "metadata": {},
   "outputs": [],
   "source": [
    "best_model = sklearn.tree.DecisionTreeClassifier(max_depth = 3)\n",
    "over = SMOTE(sampling_strategy=0.1, k_neighbors=5)\n",
    "steps = [('over', over), ('model', best_model)]\n",
    "pipeline = Pipeline(steps=steps)\n",
    "_ = pipeline.fit(X_train_val_up, y_train_val_up)"
   ]
  },
  {
   "cell_type": "code",
   "execution_count": 115,
   "metadata": {},
   "outputs": [
    {
     "name": "stdout",
     "output_type": "stream",
     "text": [
      " f1-score: 0.5035971223021583\n"
     ]
    }
   ],
   "source": [
    "y_test_up_pred = pipeline[1].predict(X_test_up)# [:,1]\n",
    "print(f' f1-score: {sklearn.metrics.f1_score(y_test_up, y_test_up_pred)}')"
   ]
  },
  {
   "cell_type": "code",
   "execution_count": 116,
   "metadata": {},
   "outputs": [
    {
     "name": "stdout",
     "output_type": "stream",
     "text": [
      "Test ROC AUC for the best model 0.881\n"
     ]
    }
   ],
   "source": [
    "y_test_pred_proba = pipeline[1].predict_proba(X_test_up)[:,1]\n",
    "print('Test ROC AUC for the best model %.3f' % roc_auc_score(y_test_up, y_test_pred_proba))"
   ]
  },
  {
   "cell_type": "markdown",
   "metadata": {},
   "source": [
    "Naive Bayes"
   ]
  },
  {
   "cell_type": "code",
   "execution_count": 107,
   "metadata": {},
   "outputs": [],
   "source": [
    "best_model = get_model('nb')[0]\n",
    "over = SMOTE(sampling_strategy=0.1, k_neighbors=10)\n",
    "steps = [('over', over), ('model', best_model)]\n",
    "pipeline = Pipeline(steps=steps)\n",
    "_ = pipeline.fit(X_train_val_up, y_train_val_up)"
   ]
  },
  {
   "cell_type": "code",
   "execution_count": 108,
   "metadata": {},
   "outputs": [
    {
     "name": "stdout",
     "output_type": "stream",
     "text": [
      " f1-score: 0.4897959183673469\n"
     ]
    }
   ],
   "source": [
    "y_test_up_pred = pipeline[1].predict(X_test_up)# [:,1]\n",
    "print(f' f1-score: {sklearn.metrics.f1_score(y_test_up, y_test_up_pred)}')"
   ]
  },
  {
   "cell_type": "code",
   "execution_count": 109,
   "metadata": {},
   "outputs": [
    {
     "name": "stdout",
     "output_type": "stream",
     "text": [
      "Test ROC AUC for the best model 0.874\n"
     ]
    }
   ],
   "source": [
    "y_test_pred_proba = pipeline[1].predict_proba(X_test_up)[:,1]\n",
    "print('Test ROC AUC for the best model %.3f' % roc_auc_score(y_test_up, y_test_pred_proba))"
   ]
  },
  {
   "cell_type": "markdown",
   "metadata": {},
   "source": [
    "Random Forest"
   ]
  },
  {
   "cell_type": "code",
   "execution_count": 101,
   "metadata": {},
   "outputs": [],
   "source": [
    "model = get_model('Random Forest')[0]\n",
    "parameters = {'model__max_depth':(3, 5, 7), 'model__n_estimators': (100, 200), 'over__sampling_strategy':(0.1, 0.8)}\n",
    "over = SMOTE(k_neighbors=SMOTE_K_NEIGHBOURS)\n",
    "steps = [('over', over), ('model', model)]\n",
    "pipeline = Pipeline(steps=steps)\n",
    "clf = GridSearchCV(pipeline, parameters, scoring='roc_auc', cv=skf, n_jobs=-1)\n",
    "_ = clf.fit(X_train_val_up, y_train_val_up)"
   ]
  },
  {
   "cell_type": "code",
   "execution_count": 103,
   "metadata": {},
   "outputs": [
    {
     "name": "stdout",
     "output_type": "stream",
     "text": [
      "{'model__max_depth': 7, 'model__n_estimators': 100, 'over__sampling_strategy': 0.1}\n"
     ]
    }
   ],
   "source": [
    "print(clf.best_params_)"
   ]
  },
  {
   "cell_type": "code",
   "execution_count": 141,
   "metadata": {},
   "outputs": [],
   "source": [
    "best_model_RF = RandomForestClassifier(max_depth = 7, n_estimators = 100)\n",
    "over = SMOTE(sampling_strategy=0.1, k_neighbors=SMOTE_K_NEIGHBOURS)\n",
    "steps = [('over', over), ('model', best_model_RF)]\n",
    "pipeline = Pipeline(steps=steps)\n",
    "_ = pipeline.fit(X_train_val_up, y_train_val)"
   ]
  },
  {
   "cell_type": "code",
   "execution_count": 142,
   "metadata": {},
   "outputs": [
    {
     "name": "stdout",
     "output_type": "stream",
     "text": [
      " f1-score: 0.4711538461538462\n"
     ]
    }
   ],
   "source": [
    "y_test_up_pred = pipeline[1].predict(X_test_up)# [:,1]\n",
    "print(f' f1-score: {sklearn.metrics.f1_score(y_test_up, y_test_up_pred)}')"
   ]
  },
  {
   "cell_type": "code",
   "execution_count": 143,
   "metadata": {},
   "outputs": [
    {
     "name": "stdout",
     "output_type": "stream",
     "text": [
      "Test ROC AUC for the best model 0.923\n"
     ]
    }
   ],
   "source": [
    "y_test_pred_proba = pipeline[1].predict_proba(X_test_up)[:,1]\n",
    "print('Test ROC AUC for the best model %.3f' % roc_auc_score(y_test_up, y_test_pred_proba))"
   ]
  },
  {
   "cell_type": "markdown",
   "metadata": {},
   "source": [
    "Таким образом выводы ученных подтверждаюся по нашим результатам. \n",
    "\n",
    "XGBoost"
   ]
  },
  {
   "cell_type": "code",
   "execution_count": 130,
   "metadata": {},
   "outputs": [
    {
     "name": "stderr",
     "output_type": "stream",
     "text": [
      "/Library/Frameworks/Python.framework/Versions/3.8/lib/python3.8/site-packages/xgboost/sklearn.py:888: UserWarning: The use of label encoder in XGBClassifier is deprecated and will be removed in a future release. To remove this warning, do the following: 1) Pass option use_label_encoder=False when constructing XGBClassifier object; and 2) Encode your labels (y) as integers starting with 0, i.e. 0, 1, 2, ..., [num_class - 1].\n",
      "  warnings.warn(label_encoder_deprecation_msg, UserWarning)\n"
     ]
    },
    {
     "name": "stdout",
     "output_type": "stream",
     "text": [
      "[16:09:03] WARNING: /Users/travis/build/dmlc/xgboost/src/learner.cc:1061: Starting in XGBoost 1.3.0, the default evaluation metric used with the objective 'binary:logistic' was changed from 'error' to 'logloss'. Explicitly set eval_metric if you'd like to restore the old behavior.\n"
     ]
    }
   ],
   "source": [
    "from xgboost import XGBClassifier\n",
    "# dtrain = xgb.DMatrix(X_train_val_up, label=y_train_val)\n",
    "# dtest = xgb.DMatrix(X_test_up, label=y_test_up)\n",
    "\n",
    "model = XGBClassifier()\n",
    "parameters = {'model__max_depth':(3, 5, 7), 'over__sampling_strategy':(0.1, 0.2, 0.8, 0.9)}\n",
    "over = SMOTE(k_neighbors=SMOTE_K_NEIGHBOURS)\n",
    "steps = [('over', over), ('model', model)]\n",
    "pipeline = Pipeline(steps=steps)\n",
    "clf = GridSearchCV(pipeline, parameters, scoring='roc_auc', cv=skf, n_jobs=-1)\n",
    "_ = clf.fit(X_train_val_up, y_train_val_up)"
   ]
  },
  {
   "cell_type": "code",
   "execution_count": 131,
   "metadata": {},
   "outputs": [
    {
     "name": "stdout",
     "output_type": "stream",
     "text": [
      "{'model__max_depth': 3, 'over__sampling_strategy': 0.1}\n"
     ]
    }
   ],
   "source": [
    "print(clf.best_params_)"
   ]
  },
  {
   "cell_type": "code",
   "execution_count": 144,
   "metadata": {},
   "outputs": [
    {
     "name": "stderr",
     "output_type": "stream",
     "text": [
      "/Library/Frameworks/Python.framework/Versions/3.8/lib/python3.8/site-packages/xgboost/sklearn.py:888: UserWarning: The use of label encoder in XGBClassifier is deprecated and will be removed in a future release. To remove this warning, do the following: 1) Pass option use_label_encoder=False when constructing XGBClassifier object; and 2) Encode your labels (y) as integers starting with 0, i.e. 0, 1, 2, ..., [num_class - 1].\n",
      "  warnings.warn(label_encoder_deprecation_msg, UserWarning)\n"
     ]
    },
    {
     "name": "stdout",
     "output_type": "stream",
     "text": [
      "[16:17:31] WARNING: /Users/travis/build/dmlc/xgboost/src/learner.cc:1061: Starting in XGBoost 1.3.0, the default evaluation metric used with the objective 'binary:logistic' was changed from 'error' to 'logloss'. Explicitly set eval_metric if you'd like to restore the old behavior.\n"
     ]
    }
   ],
   "source": [
    "best_model_XGB = XGBClassifier(max_depth = 3)\n",
    "over = SMOTE(sampling_strategy=0.1, k_neighbors=SMOTE_K_NEIGHBOURS)\n",
    "steps = [('over', over), ('model', best_model_XGB)]\n",
    "pipeline = Pipeline(steps=steps)\n",
    "_ = pipeline.fit(X_train_val_up, y_train_val)"
   ]
  },
  {
   "cell_type": "code",
   "execution_count": 145,
   "metadata": {},
   "outputs": [
    {
     "name": "stdout",
     "output_type": "stream",
     "text": [
      " f1-score: 0.5213675213675214\n"
     ]
    }
   ],
   "source": [
    "y_test_up_pred = pipeline[1].predict(X_test_up)# [:,1]\n",
    "print(f' f1-score: {sklearn.metrics.f1_score(y_test_up, y_test_up_pred)}')"
   ]
  },
  {
   "cell_type": "code",
   "execution_count": 146,
   "metadata": {},
   "outputs": [
    {
     "name": "stdout",
     "output_type": "stream",
     "text": [
      "Test ROC AUC for the best model 0.931\n"
     ]
    }
   ],
   "source": [
    "y_test_pred_proba = pipeline[1].predict_proba(X_test_up)[:,1]\n",
    "print('Test ROC AUC for the best model %.3f' % roc_auc_score(y_test_up, y_test_pred_proba))"
   ]
  },
  {
   "cell_type": "markdown",
   "metadata": {},
   "source": [
    "Мы можем наблюдать, что качество модели полученное с помощью леса деревьев немного больше, чем у XGBost, однако не значительно. "
   ]
  },
  {
   "cell_type": "markdown",
   "metadata": {
    "id": "UVYdXDOE_0__"
   },
   "source": [
    "#3. Model interpretation"
   ]
  },
  {
   "cell_type": "markdown",
   "metadata": {
    "id": "WUhuHEjNs_xd"
   },
   "source": [
    "Plot feature importance for the RandomForest Model"
   ]
  },
  {
   "cell_type": "code",
   "execution_count": 135,
   "metadata": {
    "id": "fMxBcQq4tNw2"
   },
   "outputs": [],
   "source": [
    "import numpy as np\n",
    "import matplotlib.pyplot as plt"
   ]
  },
  {
   "cell_type": "code",
   "execution_count": 152,
   "metadata": {
    "id": "_HDvi_d3_xi6"
   },
   "outputs": [],
   "source": [
    "importances = best_model_RF.feature_importances_\n",
    "\n",
    "indices = np.argsort(importances)[::-1]"
   ]
  },
  {
   "cell_type": "code",
   "execution_count": 153,
   "metadata": {
    "colab": {
     "base_uri": "https://localhost:8080/",
     "height": 687
    },
    "id": "2G4iC75AtMlZ",
    "outputId": "f9acef29-d52f-45eb-d248-2444b0b6fa76"
   },
   "outputs": [
    {
     "data": {
      "image/png": "[encoded data removed]",
      "text/plain": [
       "<Figure size 720x720 with 1 Axes>"
      ]
     },
     "metadata": {
      "needs_background": "light"
     },
     "output_type": "display_data"
    }
   ],
   "source": [
    "plt.figure(figsize=(10, 10))\n",
    "\n",
    "plt.title('Важность признаков в модели случайного леса')\n",
    "plt.ylabel('Важность (полезность)')\n",
    "plt.xlabel('Название признака')\n",
    "\n",
    "plt.bar(range(len(X_test_up.columns)), importances[indices])\n",
    "plt.xticks(range(len(X_test_up.columns)),X_test_up.columns[indices],rotation=90)\n",
    "plt.show()"
   ]
  },
  {
   "cell_type": "markdown",
   "metadata": {
    "id": "utBUsIA2-OIU"
   },
   "source": [
    "#### Task 3 (3 points)\n",
    "\n",
    "* Get feature importances for the best XGBoost model and compare results with RandomForest importances. (2 points)\n",
    "\n",
    "* Compare results with the importances from the [original article](https://www.biorxiv.org/content/10.1101/105262v1.full) (1 point)\n",
    "\n"
   ]
  },
  {
   "cell_type": "code",
   "execution_count": 154,
   "metadata": {},
   "outputs": [],
   "source": [
    "importances = best_model_XGB.feature_importances_\n",
    "\n",
    "indices = np.argsort(importances)[::-1]"
   ]
  },
  {
   "cell_type": "code",
   "execution_count": 156,
   "metadata": {},
   "outputs": [
    {
     "data": {
      "image/png": "[encoded data removed]",
      "text/plain": [
       "<Figure size 720x720 with 1 Axes>"
      ]
     },
     "metadata": {
      "needs_background": "light"
     },
     "output_type": "display_data"
    }
   ],
   "source": [
    "plt.figure(figsize=(10, 10))\n",
    "\n",
    "plt.title('Важность признаков в модели градиентного бустинга (XGBoost)')\n",
    "plt.ylabel('Важность (полезность)')\n",
    "plt.xlabel('Название признака')\n",
    "\n",
    "plt.bar(range(len(X_test_up.columns)), importances[indices])\n",
    "plt.xticks(range(len(X_test_up.columns)),X_test_up.columns[indices],rotation=90)\n",
    "plt.show()"
   ]
  },
  {
   "cell_type": "markdown",
   "metadata": {},
   "source": [
    "Мы можем наблюдать значительные измения признаков. В отличии от модели случайного леса, в градиентном устинге получилось, что 5-ая хромосома иммет очень большое значение для энхансеров. Также поменялись местами 1 и 3 позиции в рейтинге значимости. Нельзя не отметить, что в модели случайного леса хромомсома не имела большого значения, однако в модели градиентного бустинга хромосоома имеет значение. \n",
    "\n",
    "Я был приятно удивлен, что мои данные не очень далеки от полученных авторами статьи. Группа факторов Cdk8, Brd4, H3K27ac, Med12 аналогична исследованиям заняла первые места со значительным отрывом от плато. Остальные факторы аналогично исследования перешли в плато. Однако факторы Pol2, Cdk9 ушли из лидерской группы на плато. "
   ]
  },
  {
   "cell_type": "code",
   "execution_count": null,
   "metadata": {},
   "outputs": [],
   "source": []
  },
  {
   "cell_type": "markdown",
   "metadata": {
    "id": "E32PcJCC-QgX"
   },
   "source": [
    "#### Bonus Task (5 points)\n",
    "\n",
    "Create additional analysis of the results/initial data (you can choose some of the analysis steps from the [original article](https://www.biorxiv.org/content/10.1101/105262v1.full)).\n",
    "\n",
    "You can use additional sources like [Genome Browser](https://artyomovlab.wustl.edu/jbr/2018_h3k27ac_aging/).\n"
   ]
  },
  {
   "cell_type": "code",
   "execution_count": 188,
   "metadata": {},
   "outputs": [
    {
     "data": {
      "text/plain": [
       "<seaborn.axisgrid.PairGrid at 0x7fd7e003b5e0>"
      ]
     },
     "execution_count": 188,
     "metadata": {},
     "output_type": "execute_result"
    },
    {
     "data": {
      "image/png": "[encoded data removed]",
      "text/plain": [
       "<Figure size 948.5x900 with 30 Axes>"
      ]
     },
     "metadata": {
      "needs_background": "light"
     },
     "output_type": "display_data"
    }
   ],
   "source": [
    "import seaborn as sns\n",
    "\n",
    "sns.pairplot(data.drop(columns = ['chrom', 'start', 'end', 'H3K4me1', 'H3K4me3',\n",
    "       'H3K9me3',  'Med12', 'p300', 'CBP', \n",
    "       'Lsd1', 'Brg1', 'Smc1', 'Nipbl', 'Mi2b', 'CHD7', 'HDAC2', 'HDAC',\n",
    "       'DNaseI', 'Oct4', 'Sox2', 'Nanog', 'Smad3', 'Stat3', 'Tcf3', 'Esrrb',\n",
    "       'Klf4', 'Prdm14', 'Tcfcp2I1', 'Nr5a2', 'AT_content', 'GC_content',\n",
    "       'phastCons', 'phastConsP', 'repeat_fraction', 'length']), hue=\"Class\", diag_kind = 'auto')"
   ]
  },
  {
   "cell_type": "markdown",
   "metadata": {},
   "source": [
    "Рассмотрена диаграмма рассеяния. Видны некоторые зависимости - разделения. Поэтому попробуем пройтись по ним в рамках совместных гистограмм"
   ]
  },
  {
   "cell_type": "code",
   "execution_count": 196,
   "metadata": {},
   "outputs": [
    {
     "data": {
      "image/png": "[encoded data removed]",
      "text/plain": [
       "<Figure size 432x288 with 1 Axes>"
      ]
     },
     "metadata": {
      "needs_background": "light"
     },
     "output_type": "display_data"
    }
   ],
   "source": [
    "data.groupby('Class')['Cdk8'].plot.kde(alpha=0.6, grid = 60)\n",
    "plt.legend();"
   ]
  },
  {
   "cell_type": "code",
   "execution_count": 203,
   "metadata": {},
   "outputs": [
    {
     "name": "stderr",
     "output_type": "stream",
     "text": [
      "No handles with labels found to put in legend.\n"
     ]
    },
    {
     "data": {
      "image/png": "[encoded data removed]",
      "text/plain": [
       "<Figure size 432x288 with 1 Axes>"
      ]
     },
     "metadata": {
      "needs_background": "light"
     },
     "output_type": "display_data"
    }
   ],
   "source": [
    "data.boxplot(column = 'Cdk8',by = 'Class')\n",
    "plt.legend();"
   ]
  },
  {
   "cell_type": "markdown",
   "metadata": {},
   "source": [
    "Типичные энхасеры имеют существенно меньшие значения Cdk8"
   ]
  },
  {
   "cell_type": "code",
   "execution_count": 197,
   "metadata": {},
   "outputs": [
    {
     "data": {
      "image/png": "[encoded data removed]",
      "text/plain": [
       "<Figure size 432x288 with 1 Axes>"
      ]
     },
     "metadata": {
      "needs_background": "light"
     },
     "output_type": "display_data"
    }
   ],
   "source": [
    "data.groupby('Class')['Brd4'].plot.kde(alpha=0.6, grid = 60)\n",
    "plt.legend();"
   ]
  },
  {
   "cell_type": "code",
   "execution_count": 204,
   "metadata": {},
   "outputs": [
    {
     "name": "stderr",
     "output_type": "stream",
     "text": [
      "No handles with labels found to put in legend.\n"
     ]
    },
    {
     "data": {
      "image/png": "[encoded data removed]",
      "text/plain": [
       "<Figure size 432x288 with 1 Axes>"
      ]
     },
     "metadata": {
      "needs_background": "light"
     },
     "output_type": "display_data"
    }
   ],
   "source": [
    "data.boxplot(column = 'Brd4',by = 'Class')\n",
    "plt.legend();"
   ]
  },
  {
   "cell_type": "markdown",
   "metadata": {},
   "source": [
    "Типичные энхасеры имеют существенно меньшие значения Brd4"
   ]
  },
  {
   "cell_type": "code",
   "execution_count": null,
   "metadata": {},
   "outputs": [],
   "source": [
    "data.groupby('Class')['length'].plot.kde(alpha=0.6, grid = 60)\n",
    "plt.legend();"
   ]
  },
  {
   "cell_type": "code",
   "execution_count": 192,
   "metadata": {},
   "outputs": [
    {
     "data": {
      "text/plain": [
       "Class\n",
       "SE    AxesSubplot(0.125,0.125;0.775x0.755)\n",
       "TE    AxesSubplot(0.125,0.125;0.775x0.755)\n",
       "Name: length, dtype: object"
      ]
     },
     "execution_count": 192,
     "metadata": {},
     "output_type": "execute_result"
    },
    {
     "data": {
      "image/png": "[encoded data removed]",
      "text/plain": [
       "<Figure size 432x288 with 1 Axes>"
      ]
     },
     "metadata": {
      "needs_background": "light"
     },
     "output_type": "display_data"
    }
   ],
   "source": [
    "data.groupby('Class')['length'].plot.hist(alpha=0.6, density = True, grid = 20)\n",
    "plt.legend();"
   ]
  },
  {
   "cell_type": "code",
   "execution_count": null,
   "metadata": {},
   "outputs": [],
   "source": [
    " Brd4, H3K27ac, Med12,  Pol2, Cdk9 "
   ]
  }
 ],
 "metadata": {
  "colab": {
   "collapsed_sections": [],
   "name": "Pirogov_Practice1.ipynb",
   "provenance": []
  },
  "kernelspec": {
   "display_name": "Python 3",
   "language": "python",
   "name": "python3"
  },
  "language_info": {
   "codemirror_mode": {
    "name": "ipython",
    "version": 3
   },
   "file_extension": ".py",
   "mimetype": "text/x-python",
   "name": "python",
   "nbconvert_exporter": "python",
   "pygments_lexer": "ipython3",
   "version": "3.8.2"
  }
 },
 "nbformat": 4,
 "nbformat_minor": 1
}
