{
 "cells": [
  {
   "cell_type": "markdown",
   "metadata": {},
   "source": [
    "# Случайные леса\n",
    "__Суммарное количество баллов: 10__\n",
    "\n",
    "В этом задании вам предстоит реализовать ансамбль деревьев решений, известный как случайный лес, применить его к публичным данным и сравнить его эффективность с ансамблями из самых популярных библиотек."
   ]
  },
  {
   "cell_type": "code",
   "execution_count": 2,
   "metadata": {},
   "outputs": [
    {
     "ename": "ModuleNotFoundError",
     "evalue": "No module named 'catboost'",
     "output_type": "error",
     "traceback": [
      "\u001b[0;31m---------------------------------------------------------------------------\u001b[0m",
      "\u001b[0;31mModuleNotFoundError\u001b[0m                       Traceback (most recent call last)",
      "\u001b[0;32m<ipython-input-2-0bbc494d1bd7>\u001b[0m in \u001b[0;36m<module>\u001b[0;34m\u001b[0m\n\u001b[1;32m     10\u001b[0m \u001b[0;32mimport\u001b[0m \u001b[0mos\u001b[0m\u001b[0;34m\u001b[0m\u001b[0;34m\u001b[0m\u001b[0m\n\u001b[1;32m     11\u001b[0m \u001b[0;31m# import catboost\u001b[0m\u001b[0;34m\u001b[0m\u001b[0;34m\u001b[0m\u001b[0;34m\u001b[0m\u001b[0m\n\u001b[0;32m---> 12\u001b[0;31m \u001b[0;32mfrom\u001b[0m \u001b[0mcatboost\u001b[0m \u001b[0;32mimport\u001b[0m \u001b[0mCatBoostClassifier\u001b[0m\u001b[0;34m\u001b[0m\u001b[0;34m\u001b[0m\u001b[0m\n\u001b[0m\u001b[1;32m     13\u001b[0m \u001b[0;32mimport\u001b[0m \u001b[0mlightgbm\u001b[0m \u001b[0;32mas\u001b[0m \u001b[0mlgb\u001b[0m\u001b[0;34m\u001b[0m\u001b[0;34m\u001b[0m\u001b[0m\n\u001b[1;32m     14\u001b[0m \u001b[0;32mfrom\u001b[0m \u001b[0mxgboost\u001b[0m \u001b[0;32mimport\u001b[0m \u001b[0mXGBRegressor\u001b[0m\u001b[0;34m\u001b[0m\u001b[0;34m\u001b[0m\u001b[0m\n",
      "\u001b[0;31mModuleNotFoundError\u001b[0m: No module named 'catboost'"
     ]
    }
   ],
   "source": [
    "from sklearn.model_selection import train_test_split\n",
    "import numpy as np\n",
    "import pandas as pd\n",
    "import random\n",
    "import matplotlib.pyplot as plt\n",
    "import matplotlib\n",
    "import copy\n",
    "from sklearn.metrics import f1_score\n",
    "from sklearn.metrics import accuracy_score, recall_score, precision_score, roc_auc_score\n",
    "import os\n",
    "# import catboost\n",
    "from catboost import CatBoostClassifier\n",
    "import lightgbm as lgb\n",
    "from xgboost import XGBRegressor"
   ]
  },
  {
   "cell_type": "markdown",
   "metadata": {},
   "source": [
    "### Задание 1 (3 балла)\n",
    "Реализуем сам Random Forest. Идея очень простая: строим `n` деревьев, а затем берем модальное предсказание. Используйте реализацию дерева из HW3.\n",
    "\n",
    "#### Параметры конструктора\n",
    "`n_estimators` - количество используемых для предсказания деревьев.\n",
    "\n",
    "Остальное - параметры деревьев.\n",
    "\n",
    "#### Методы\n",
    "`fit(X, y)` - строит `n_estimators` деревьев по выборке `X`.\n",
    "\n",
    "`predict(X)` - для каждого элемента выборки `X` возвращает самый частый класс, который предсказывают для него деревья."
   ]
  },
  {
   "cell_type": "code",
   "execution_count": 29,
   "metadata": {},
   "outputs": [],
   "source": [
    "class RandomForestClassifier:\n",
    "    def __init__(self, criterion=\"gini\", max_depth=None, min_samples_leaf=1, max_features=\"auto\", n_estimators=10):\n",
    "        self.n_estimators = n_estimators\n",
    "        self.criterion = criterion\n",
    "        self.max_depth = max_depth\n",
    "        self.min_samples_leaf = min_samples_leaf\n",
    "        self.max_features = max_features\n",
    "        # raise NotImplementedError()\n",
    "        self.trees = []\n",
    "        self.index_t = []\n",
    "\n",
    "    \n",
    "    def fit(self, X, y):\n",
    "        for i in range(self.n_estimators):\n",
    "            tree_my = DecisionTreeClassifier(criterion=self.criterion, max_depth=self.max_depth, min_samples_leaf=self.min_samples_leaf)\n",
    "            indices = [random.choice(range(len(X))) for i in range(len(X))]\n",
    "            \n",
    "            tree_my.fit(X.iloc[indices], y.iloc[indices])\n",
    "            self.trees.append(tree_my)\n",
    "            self.index_t.append(indices)\n",
    "    \n",
    "    def predict(self, X):\n",
    "        result = np.array([tree.predict(X) for tree in self.trees ])\n",
    "        y_pred = np.array([np.argmax(np.bincount(column)) for column in result.T])\n",
    "        return np.array(y_pred)\n",
    "    \n",
    "    def predict_proba(self, X):\n",
    "        predicted = np.array([tree.predict(X) for tree in self.trees])\n",
    "        y_pred = np.array([{1:np.mean(column), 0:1-np.mean(column)} for column in predicted.T])\n",
    "        return y_pred\n",
    "    \n",
    "    def error(self, X, y):\n",
    "        arr_error = []\n",
    "        for index, row in X.iterrows():\n",
    "            s_error = 0\n",
    "            count = 0\n",
    "            check = False\n",
    "            for tree, tree_indices in zip(self.trees, self.index_t):\n",
    "                if index not in tree_indices:\n",
    "                    check = True\n",
    "                    count += 1\n",
    "                    s_error += tree.predict(X.loc[[index]])[0]\n",
    "            # print(s_error, count*0.5)\n",
    "            if check and (round(s_error / count) != y.at[index] ):\n",
    "                # print(s_error, count, y.at[index])\n",
    "                arr_error.append(1)\n",
    "            else:\n",
    "                # print(s_error, count)\n",
    "                arr_error.append(0)\n",
    "        # print(sum(arr_error) / len(X.index) , sum(arr_error), '#########',row )\n",
    "        return sum(arr_error) / len(X.index) "
   ]
  },
  {
   "cell_type": "markdown",
   "metadata": {},
   "source": [
    "Ранее реализованный класс решающего дерева"
   ]
  },
  {
   "cell_type": "code",
   "execution_count": 11,
   "metadata": {},
   "outputs": [],
   "source": [
    "class DecisionTreeClassifier:\n",
    "    def __init__(self, criterion=\"gini\", max_depth=None, min_samples_leaf=1):\n",
    "        self.root = None\n",
    "        self.criterion = {'gini':gini, 'entropy':entropy}[criterion]\n",
    "        self.root = None\n",
    "        self.max_depth = max_depth\n",
    "        self.min_samples_leaf = min_samples_leaf\n",
    "    \n",
    "    \n",
    "    \n",
    "    def fit(self, X, y):\n",
    "        def search(self, X, y, depth):\n",
    "            if len(set(y)) == 1:\n",
    "                return DecisionTreeLeaf(y)\n",
    "            if len(y) <= self.min_samples_leaf: \n",
    "                return DecisionTreeLeaf(y)\n",
    "            if not (self.max_depth == None) and depth >= self.max_depth: \n",
    "                return DecisionTreeLeaf(y)\n",
    "\n",
    "            gain_m = -float('Inf')\n",
    "            \n",
    "            is_split = False\n",
    "            gain_dim = '' \n",
    "            i = -1\n",
    "            val_m = 0\n",
    "            for col in X.columns:\n",
    "                i += 1\n",
    "                dim = X[col]\n",
    "                for k in set(dim):\n",
    "                    left = y.loc[dim < k]\n",
    "                    right = y.loc[dim >= k]\n",
    "                    if len(left)*len(right) != 0:\n",
    "                        cur_gain = gain(left, right, self.criterion)\n",
    "                        if cur_gain > gain_m:\n",
    "                            is_split = True\n",
    "                            gain_m = cur_gain\n",
    "                            val_m = k\n",
    "                            gain_dim = col\n",
    "                            gi = i\n",
    "            if not is_split:\n",
    "                return DecisionTreeLeaf(y)\n",
    "            \n",
    "            left = y.loc[X[gain_dim] < val_m]\n",
    "            left_X = X.loc[X[gain_dim] < val_m]\n",
    "            right = y.loc[X[gain_dim] >= val_m]\n",
    "            right_X = X.loc[X[gain_dim] >= val_m]\n",
    "            tree_l = search(self, left_X, left, depth + 1)\n",
    "            tree_r = search(self, right_X, right, depth + 1)\n",
    "        \n",
    "            return DecisionTreeNode(gi, val_m, tree_l, tree_r)\n",
    "        \n",
    "        self.root = search(self, X, y, 0)\n",
    "        \n",
    "\n",
    "    def predict_proba(self, X):\n",
    "        \n",
    "        def inst(self, root, arr):\n",
    "            if isinstance(root,DecisionTreeLeaf):\n",
    "                a = {}\n",
    "                values, counts = np.unique(root.y, return_counts=True)\n",
    "                for i in range(len(values)):\n",
    "                    a[values[i]] = counts[i] / len(root.y)\n",
    "                return a\n",
    "            else:\n",
    "                if arr[root.split_dim] < root.split_value:\n",
    "                    answer_1 = root.left\n",
    "                else:\n",
    "                    answer_1 = root.right\n",
    "                return inst(self, answer_1, arr)\n",
    "        \n",
    "        answer = []\n",
    "        for val in X.values:\n",
    "            answer.append(inst(self, self.root, np.array(val)))\n",
    "        return answer\n",
    "    \n",
    "    def predict(self, X):\n",
    "        proba = self.predict_proba(X)\n",
    "        full_answer = []\n",
    "        for i in proba:\n",
    "            ans = 0\n",
    "            n_max = list(i.keys())\n",
    "            n_max = n_max[0]\n",
    "            for key in i.keys():\n",
    "                if ans<i[key]:\n",
    "                    ans = max(ans, i[key])\n",
    "                    n_max = key \n",
    "            full_answer.append(n_max)\n",
    "        return full_answer "
   ]
  },
  {
   "cell_type": "code",
   "execution_count": 3,
   "metadata": {},
   "outputs": [],
   "source": [
    "def gini(x):\n",
    "    p = sum(x) / len(x)\n",
    "    return 2 * p * (1 - p)\n",
    "    \n",
    "def entropy(x):\n",
    "    p = sum(x) / len(x)\n",
    "    return -p * log2(p) - (1 - p) * log2(1 - p)\n",
    "    \n",
    "def gain(left_y, right_y, criterion):\n",
    "    y = np.concatenate((left_y, right_y), axis=0)\n",
    "    before_split = criterion(y)\n",
    "    after_split = (len(left_y) * criterion(left_y) + len(right_y) * criterion(right_y)) / len(y)\n",
    "    return before_split - after_split"
   ]
  },
  {
   "cell_type": "code",
   "execution_count": 4,
   "metadata": {},
   "outputs": [],
   "source": [
    "class DecisionTreeLeaf:\n",
    "    def __init__(self, y):\n",
    "        self.y = y\n",
    "\n",
    "class DecisionTreeNode:\n",
    "    def __init__(self, split_dim, split_value, left, right):\n",
    "        self.split_dim = split_dim\n",
    "        self.split_value = split_value\n",
    "        self.left = left\n",
    "        self.right = right"
   ]
  },
  {
   "cell_type": "markdown",
   "metadata": {},
   "source": [
    "### Задание 3 (2 балла)\n",
    "Оптимизируйте по `AUC` на кроссвалидации (размер валидационной выборки - 20%) параметры своей реализации `Random Forest`: \n",
    "\n",
    "максимальную глубину деревьев из [2, 3, 5, 7, 10], количество деревьев из [5, 10, 20, 30, 50, 100]. \n",
    "\n",
    "Постройте `ROC` кривую (и выведите `AUC` и `accuracy`) для лучшего варианта.\n",
    "\n",
    "Подсказка: можно построить сразу 100 деревьев глубины 10, а потом убирать деревья и\n",
    "глубину."
   ]
  },
  {
   "cell_type": "code",
   "execution_count": 10,
   "metadata": {},
   "outputs": [],
   "source": [
    "def train_test_split(X, y, ratio, rando = 239):\n",
    "    data_train = X.join(y)\n",
    "    data_test = data_train.sample(frac=1 - ratio, random_state=rando)\n",
    "\n",
    "    data_train.drop(labels=data_test.index, inplace=True)\n",
    "    data_train.reset_index(drop=True, inplace=True)\n",
    "    data_test.reset_index(drop=True, inplace=True)\n",
    "\n",
    "    y_train = data_train['label']\n",
    "    y_test = data_test['label']\n",
    "\n",
    "    X_train = data_train[data_train.columns.difference(['label'])] \n",
    "    X_test = data_test[data_test.columns.difference(['label'])]\n",
    "\n",
    "    return X_train, X_test, y_train, y_test"
   ]
  },
  {
   "cell_type": "code",
   "execution_count": 11,
   "metadata": {},
   "outputs": [],
   "source": [
    "def optima (X, y):\n",
    "    score_m = -float('Inf')\n",
    "    for depth in [2, 3, 5, 7, 10]:\n",
    "        for n_tree in  [5, 10, 20, 30, 50, 100]:\n",
    "            ress = []\n",
    "            for i in range(5):\n",
    "                tree = RandomForestClassifier(criterion=\"gini\", max_depth=depth, n_estimators=n_tree)\n",
    "                X_train, X_test, y_train, y_test = train_test_split(X, y, 0.8, rando = i*10)\n",
    "                tree.fit(X_train, y_train)\n",
    "                y_pred = tree.predict(X_test)\n",
    "                ress.append(roc_auc_score(y_test, y_pred))\n",
    "                print('#',end='')\n",
    "            score = np.mean(ress)\n",
    "            if score > score_m:\n",
    "                score_m = score\n",
    "                parametrs = [depth, n_tree, tree]\n",
    "    return score_m, parametrs"
   ]
  },
  {
   "cell_type": "code",
   "execution_count": 12,
   "metadata": {},
   "outputs": [],
   "source": [
    "CANCER_DATA_PATH = 'hw2_data/cancer.csv'\n",
    "SPAM_DATA_PATH = 'hw2_data/spam.csv'\n",
    "def read_cancer_dataset(path_to_csv):\n",
    "    df = pd.read_csv(path_to_csv)\n",
    "    y = df.label\n",
    "    X = df.drop(columns=['label'])\n",
    "    y = y.replace({'M': 1, 'B': 0})\n",
    "    X = X.rename(columns={x:str(y + 1) for x,y in zip(X.columns,range(len(X.columns)))})\n",
    "    return X, y\n",
    "\n",
    "def read_spam_dataset(path_to_csv):\n",
    "    df = pd.read_csv(path_to_csv)\n",
    "    y = df.label\n",
    "    X = df.drop(columns=['label'])\n",
    "    X = X.rename(columns={x:str(y + 1) for x,y in zip(X.columns,range(len(X.columns)))})\n",
    "    return X, y\n",
    "\n",
    "X_cancer, y_cancer = read_cancer_dataset(CANCER_DATA_PATH)\n",
    "X_spam, y_spam = read_spam_dataset(SPAM_DATA_PATH)"
   ]
  },
  {
   "cell_type": "code",
   "execution_count": 13,
   "metadata": {},
   "outputs": [
    {
     "ename": "TypeError",
     "evalue": "train_test_split() got an unexpected keyword argument 'test_size'",
     "output_type": "error",
     "traceback": [
      "\u001b[0;31m---------------------------------------------------------------------------\u001b[0m",
      "\u001b[0;31mTypeError\u001b[0m                                 Traceback (most recent call last)",
      "\u001b[0;32m<ipython-input-13-749147aa593a>\u001b[0m in \u001b[0;36m<module>\u001b[0;34m\u001b[0m\n\u001b[1;32m      1\u001b[0m \u001b[0;31m# X_train, X_test, y_train, y_test = train_test_split(X_cancer, y_cancer, 0.9)\u001b[0m\u001b[0;34m\u001b[0m\u001b[0;34m\u001b[0m\u001b[0;34m\u001b[0m\u001b[0m\n\u001b[0;32m----> 2\u001b[0;31m \u001b[0mX_train\u001b[0m\u001b[0;34m,\u001b[0m \u001b[0mX_test\u001b[0m\u001b[0;34m,\u001b[0m \u001b[0my_train\u001b[0m\u001b[0;34m,\u001b[0m \u001b[0my_test\u001b[0m \u001b[0;34m=\u001b[0m \u001b[0mtrain_test_split\u001b[0m\u001b[0;34m(\u001b[0m\u001b[0mX_cancer\u001b[0m\u001b[0;34m,\u001b[0m \u001b[0my_cancer\u001b[0m\u001b[0;34m,\u001b[0m \u001b[0mtest_size\u001b[0m\u001b[0;34m=\u001b[0m\u001b[0;36m0.3\u001b[0m\u001b[0;34m)\u001b[0m\u001b[0;34m\u001b[0m\u001b[0;34m\u001b[0m\u001b[0m\n\u001b[0m",
      "\u001b[0;31mTypeError\u001b[0m: train_test_split() got an unexpected keyword argument 'test_size'"
     ]
    }
   ],
   "source": [
    "# X_train, X_test, y_train, y_test = train_test_split(X_cancer, y_cancer, 0.9)\n",
    "X_train, X_test, y_train, y_test = train_test_split(X_cancer, y_cancer, test_size=0.3)"
   ]
  },
  {
   "cell_type": "code",
   "execution_count": 66,
   "metadata": {},
   "outputs": [
    {
     "name": "stdout",
     "output_type": "stream",
     "text": [
      "#####"
     ]
    }
   ],
   "source": [
    "_, parametrs = optima(X_train, y_train)\n"
   ]
  },
  {
   "cell_type": "markdown",
   "metadata": {},
   "source": [
    "Взято из дз №3"
   ]
  },
  {
   "cell_type": "code",
   "execution_count": 67,
   "metadata": {},
   "outputs": [],
   "source": [
    "def plot_roc_curve(y_test, p_pred):\n",
    "    positive_samples = sum(1 for y in y_test if y == 0)\n",
    "    tpr = []\n",
    "    fpr = []\n",
    "    for w in np.arange(-0.01, 1.02, 0.01):\n",
    "        y_pred = [(0 if p.get(0, 0) > w else 1) for p in p_pred]\n",
    "        tpr.append(sum(1 for yp, yt in zip(y_pred, y_test) if yp == 0 and yt == 0) / positive_samples)\n",
    "        fpr.append(sum(1 for yp, yt in zip(y_pred, y_test) if yp == 0 and yt != 0) / (len(y_test) - positive_samples))\n",
    "    plt.figure(figsize = (7, 7))\n",
    "    plt.plot(fpr, tpr)\n",
    "    plt.plot([0, 1], [0, 1], linestyle=\"--\")\n",
    "    plt.xlabel(\"False positive rate\")\n",
    "    plt.ylabel(\"True positive rate\")\n",
    "    plt.xlim(-0.01, 1.01)\n",
    "    plt.ylim(-0.01, 1.01)\n",
    "    plt.tight_layout()\n",
    "    plt.show()\n",
    "\n",
    "def rectangle_bounds(bounds):\n",
    "    return ((bounds[0][0], bounds[0][0], bounds[0][1], bounds[0][1]), \n",
    "            (bounds[1][0], bounds[1][1], bounds[1][1], bounds[1][0]))\n",
    "\n",
    "def plot_2d_tree(tree_root, bounds, colors):\n",
    "    if isinstance(tree_root, DecisionTreeNode):\n",
    "        if tree_root.split_dim:\n",
    "            plot_2d_tree(tree_root.left, [bounds[0], [bounds[1][0], tree_root.split_value]], colors)\n",
    "            plot_2d_tree(tree_root.right, [bounds[0], [tree_root.split_value, bounds[1][1]]], colors)\n",
    "            plt.plot(bounds[0], (tree_root.split_value, tree_root.split_value), c=(0, 0, 0))\n",
    "        else:\n",
    "            plot_2d_tree(tree_root.left, [[bounds[0][0], tree_root.split_value], bounds[1]], colors)\n",
    "            plot_2d_tree(tree_root.right, [[tree_root.split_value, bounds[0][1]], bounds[1]], colors)\n",
    "            plt.plot((tree_root.split_value, tree_root.split_value), bounds[1], c=(0, 0, 0))\n",
    "    else:\n",
    "        x, y = rectangle_bounds(bounds)\n",
    "        plt.fill(x, y, c=colors[tree_root.y] + [0.2])\n",
    "\n",
    "def plot_2d(tree, X, y):\n",
    "    plt.figure(figsize=(9, 9))\n",
    "    colors = dict((c, list(np.random.random(3))) for c in np.unique(y))\n",
    "    bounds = list(zip(np.min(X, axis=0), np.max(X, axis=0)))\n",
    "    plt.xlim(*bounds[0])\n",
    "    plt.ylim(*bounds[1])\n",
    "    plot_2d_tree(tree.root, list(zip(np.min(X, axis=0), np.max(X, axis=0))), colors)\n",
    "    for c in np.unique(y):\n",
    "        plt.scatter(X[y==c, 0], X[y==c, 1], c=[colors[c]], label=c)\n",
    "    plt.legend()\n",
    "    plt.tight_layout()\n",
    "    plt.show()"
   ]
  },
  {
   "cell_type": "code",
   "execution_count": 68,
   "metadata": {},
   "outputs": [],
   "source": [
    "perfect_model = RandomForestClassifier(max_depth=parametrs[0], n_estimators=parametrs[1])\n",
    "perfect_model.fit(X_train, y_train)\n",
    "y_pred = perfect_model.predict(X_test)\n",
    "p_pred = perfect_model.predict_proba(X_test)"
   ]
  },
  {
   "cell_type": "code",
   "execution_count": 69,
   "metadata": {},
   "outputs": [
    {
     "name": "stdout",
     "output_type": "stream",
     "text": [
      "AUC score: 0.9344334112149533\n",
      "Accuracy score: 0.9415204678362573\n"
     ]
    },
    {
     "data": {
      "image/png": "[encoded data removed]",
      "text/plain": [
       "<Figure size 504x504 with 1 Axes>"
      ]
     },
     "metadata": {
      "needs_background": "light"
     },
     "output_type": "display_data"
    }
   ],
   "source": [
    "print(f'AUC score: {roc_auc_score(y_pred, y_test)}')\n",
    "print(f'Accuracy score: {accuracy_score(y_pred, y_test)}')\n",
    "plot_roc_curve(y_test, p_pred)"
   ]
  },
  {
   "cell_type": "markdown",
   "metadata": {},
   "source": [
    "Лес построен не для лучшей комбинации, а для той, которую компьтер смог посчитать. (глубина 2, количество 5). Однако результат уже очень хороший!"
   ]
  },
  {
   "cell_type": "markdown",
   "metadata": {},
   "source": [
    "### Задание 4 (3 балла)\n",
    "Часто хочется понимать, насколько большую роль играет тот или иной признак для предсказания класса объекта. Есть различные способы посчитать его важность. Один из простых способов сделать это для Random Forest выглядит так:\n",
    "1. Посчитать out-of-bag ошибку предсказания `err_oob` (https://en.wikipedia.org/wiki/Out-of-bag_error)\n",
    "2. Перемешать значения признака `j` у объектов выборки (у каждого из объектов изменится значение признака `j` на какой-то другой)\n",
    "3. Посчитать out-of-bag ошибку (`err_oob_j`) еще раз.\n",
    "4. Оценкой важности признака `j` для одного дерева будет разность `err_oob_j - err_oob`, важность для всего леса считается как среднее значение важности по деревьям.\n",
    "\n",
    "Реализуйте функцию `feature_importance`, которая принимает на вход Random Forest и возвращает массив, в котором содержится важность для каждого признака."
   ]
  },
  {
   "cell_type": "code",
   "execution_count": 23,
   "metadata": {},
   "outputs": [],
   "source": [
    "def feature_importance(forest, X, y):\n",
    "    answer = []\n",
    "    s = forest.error(X, y)\n",
    "    # print(s, type(s))\n",
    "    for col in X.columns:\n",
    "        new = copy.deepcopy(X)\n",
    "        new[col] = new[col].sample(frac=1).reset_index(drop=True)\n",
    "        forest.fit(new, y)\n",
    "        error = forest.error(X,y)\n",
    "        answer.append(round(s - error, 5))\n",
    "    return answer\n",
    "\n",
    "def most_important_features(importance, names=[], k=20):\n",
    "    # Выводит названия k самых важных признаков\n",
    "    idicies = np.argsort(importance)[::-1][:k]\n",
    "    return idicies\n",
    "    # return np.array(names)[idicies]\n",
    "\n"
   ]
  },
  {
   "cell_type": "markdown",
   "metadata": {},
   "source": [
    "Протестируйте решение на простом синтетическом наборе данных. В результате должна получиться точность `1.0`, наибольшее значение важности должно быть у признака с индексом `4`, признаки с индексами `2` и `3`  должны быть одинаково важны, а остальные признаки - не важны совсем."
   ]
  },
  {
   "cell_type": "code",
   "execution_count": 32,
   "metadata": {},
   "outputs": [
    {
     "name": "stdout",
     "output_type": "stream",
     "text": [
      "Accuracy: 1.0\n"
     ]
    }
   ],
   "source": [
    "def synthetic_dataset(size):\n",
    "    X = [(np.random.randint(0, 2), np.random.randint(0, 2), i % 6 == 3, \n",
    "          i % 6 == 0, i % 3 == 2, np.random.randint(0, 2)) for i in range(size)]\n",
    "    y = [i % 3 for i in range(size)]\n",
    "    return pd.DataFrame(X), pd.Series(y)\n",
    "\n",
    "X, y = synthetic_dataset(20)\n",
    "forest = RandomForestClassifier(n_estimators=10)\n",
    "forest.fit(X, y)\n",
    "print(\"Accuracy:\", np.mean(forest.predict(X) == y))"
   ]
  },
  {
   "cell_type": "code",
   "execution_count": 33,
   "metadata": {},
   "outputs": [
    {
     "name": "stdout",
     "output_type": "stream",
     "text": [
      "Importance: [0.0, 0.0, 0.0, 0.0, 0.0, 0.0]\n"
     ]
    }
   ],
   "source": [
    "print(\"Importance:\", feature_importance(forest, X, y))"
   ]
  },
  {
   "cell_type": "markdown",
   "metadata": {},
   "source": [
    "Проверьте, какие признаки важны для датасетов cancer и spam?"
   ]
  },
  {
   "cell_type": "markdown",
   "metadata": {},
   "source": [
    "### cancer"
   ]
  },
  {
   "cell_type": "code",
   "execution_count": null,
   "metadata": {},
   "outputs": [],
   "source": [
    "forest = RandomForestClassifier(max_depth=5)\n",
    "forest.fit(X_cancer, y_cancer)\n",
    "print(*most_important_features(feature_importance(forest, X_cancer, y_cancer), k=5))"
   ]
  },
  {
   "cell_type": "markdown",
   "metadata": {},
   "source": [
    "### spam"
   ]
  },
  {
   "cell_type": "code",
   "execution_count": null,
   "metadata": {},
   "outputs": [],
   "source": [
    "forest = RandomForestClassifier(max_depth=5)\n",
    "forest.fit(X_spam, y_spam)\n",
    "print(*most_important_features(feature_importance(rfc, X_spam, y_spam), k=5))"
   ]
  },
  {
   "cell_type": "markdown",
   "metadata": {},
   "source": [
    "_Ваш ответ_"
   ]
  },
  {
   "cell_type": "markdown",
   "metadata": {},
   "source": [
    "### Задание 5 (2 балла)\n",
    "В качестве альтернативы попробуем библиотечные реализации ансамблей моделей. \n",
    "\n",
    "1. [CatBoost](https://catboost.ai/docs/)\n",
    "2. [XGBoost](https://xgboost.readthedocs.io/en/latest/)\n",
    "3. [LightGBM](https://lightgbm.readthedocs.io/en/latest/)\n"
   ]
  },
  {
   "cell_type": "markdown",
   "metadata": {},
   "source": [
    "Установите необходимые библиотеки. \n",
    "Возможно, потребуется установка дополнительных пакетов"
   ]
  },
  {
   "cell_type": "code",
   "execution_count": null,
   "metadata": {},
   "outputs": [],
   "source": [
    "# !pip install lightgbm\n",
    "# !pip install catboost\n",
    "# !pip install xgboost"
   ]
  },
  {
   "cell_type": "markdown",
   "metadata": {},
   "source": [
    "Также, как и реализованный нами RandomForest, примените модели для наших датасетов.\n",
    "\n",
    "Для стандартного набора параметров у каждой модели нарисуйте `ROC` кривую и выведите `AUC` и `accuracy`.\n",
    "\n",
    "Посчитайте время обучения каждой модели (можно использовать [timeit magic](https://ipython.readthedocs.io/en/stable/interactive/magics.html#magic-timeit)). \n",
    "\n",
    "Сравните метрики качества и скорость обучения моделей. Какие выводы можно сделать?"
   ]
  },
  {
   "cell_type": "markdown",
   "metadata": {},
   "source": [
    "По результатам проведенных сравнений можно сделать следующие выводы:\n",
    "1. Все методы дают примерно одинаковый результат, что выражется в том, что показатели AUC score и Accuracy score примерно равны в сравниваемых наборах данных.\n",
    "2. Можно заметить,что время работы метода catboost существенно больше времени работы lightgbm и xgboost. Однако времени работы составляет десятые доли миллисекунд, поэтому об этом можно не беспокоиться. \n",
    "3. Все эти методы работают в несколько тысяч раз быстрее, чем реализованные мною выше, так как время рассчёта превышает полчаса, а в рассмотренных ниже методах всего сотни микросекунд. "
   ]
  },
  {
   "cell_type": "markdown",
   "metadata": {},
   "source": [
    "## spam"
   ]
  },
  {
   "cell_type": "code",
   "execution_count": 23,
   "metadata": {},
   "outputs": [],
   "source": [
    "X_train, X_test, y_train, y_test = train_test_split(X_spam, y_spam, test_size=0.3)"
   ]
  },
  {
   "cell_type": "markdown",
   "metadata": {},
   "source": [
    "### catboost"
   ]
  },
  {
   "cell_type": "code",
   "execution_count": 29,
   "metadata": {},
   "outputs": [
    {
     "name": "stdout",
     "output_type": "stream",
     "text": [
      "CPU times: user 203 µs, sys: 269 µs, total: 472 µs\n",
      "Wall time: 326 µs\n",
      "Learning rate set to 0.5\n",
      "0:\tlearn: 0.3312895\ttotal: 11.1ms\tremaining: 212ms\n",
      "1:\tlearn: 0.2244778\ttotal: 16.6ms\tremaining: 149ms\n",
      "2:\tlearn: 0.1861398\ttotal: 22.5ms\tremaining: 128ms\n",
      "3:\tlearn: 0.1683383\ttotal: 31.2ms\tremaining: 125ms\n",
      "4:\tlearn: 0.1566546\ttotal: 38.3ms\tremaining: 115ms\n",
      "5:\tlearn: 0.1476228\ttotal: 45.7ms\tremaining: 107ms\n",
      "6:\tlearn: 0.1402513\ttotal: 52.6ms\tremaining: 97.6ms\n",
      "7:\tlearn: 0.1392778\ttotal: 57.9ms\tremaining: 86.8ms\n",
      "8:\tlearn: 0.1325126\ttotal: 63ms\tremaining: 77ms\n",
      "9:\tlearn: 0.1298439\ttotal: 68.2ms\tremaining: 68.2ms\n",
      "10:\tlearn: 0.1256795\ttotal: 73.4ms\tremaining: 60.1ms\n",
      "11:\tlearn: 0.1209748\ttotal: 78.8ms\tremaining: 52.5ms\n",
      "12:\tlearn: 0.1204288\ttotal: 84ms\tremaining: 45.2ms\n",
      "13:\tlearn: 0.1173847\ttotal: 89.2ms\tremaining: 38.2ms\n",
      "14:\tlearn: 0.1110529\ttotal: 94.8ms\tremaining: 31.6ms\n",
      "15:\tlearn: 0.1058082\ttotal: 101ms\tremaining: 25.1ms\n",
      "16:\tlearn: 0.1035733\ttotal: 106ms\tremaining: 18.8ms\n",
      "17:\tlearn: 0.1025200\ttotal: 112ms\tremaining: 12.4ms\n",
      "18:\tlearn: 0.1020723\ttotal: 117ms\tremaining: 6.15ms\n",
      "19:\tlearn: 0.1003832\ttotal: 122ms\tremaining: 0us\n",
      "AUC score: 0.9314453071414853\n",
      "Accuracy score: 0.9362780593772628\n"
     ]
    },
    {
     "data": {
      "image/png": "[encoded data removed]",
      "text/plain": [
       "<Figure size 504x504 with 1 Axes>"
      ]
     },
     "metadata": {
      "needs_background": "light"
     },
     "output_type": "display_data"
    }
   ],
   "source": [
    "%time model = CatBoostClassifier(iterations=20)\n",
    "model.fit(X_train, y_train)\n",
    "predictions = model.predict(X_test)\n",
    "predictions_p = model.predict_proba(X_test)\n",
    "predictions_p = [{0: i[0], 1: i[1]} for i in predictions_p]\n",
    "predictions = [round(x) for x in predictions]\n",
    "print(f'AUC score: {roc_auc_score(predictions, y_test)}')\n",
    "print(f'Accuracy score: {accuracy_score(predictions, y_test)}')\n",
    "plot_roc_curve(pd.Series(y_test), predictions_p)\n",
    "plt.show()"
   ]
  },
  {
   "cell_type": "markdown",
   "metadata": {},
   "source": [
    "### lightgbm"
   ]
  },
  {
   "cell_type": "code",
   "execution_count": 26,
   "metadata": {},
   "outputs": [
    {
     "name": "stdout",
     "output_type": "stream",
     "text": [
      "CPU times: user 418 µs, sys: 160 µs, total: 578 µs\n",
      "Wall time: 266 µs\n",
      "AUC score: 0.9423840474280353\n",
      "Accuracy score: 0.9478638667632151\n"
     ]
    },
    {
     "data": {
      "image/png": "[encoded data removed]",
      "text/plain": [
       "<Figure size 504x504 with 1 Axes>"
      ]
     },
     "metadata": {
      "needs_background": "light"
     },
     "output_type": "display_data"
    }
   ],
   "source": [
    "%time model = lgb.LGBMClassifier()\n",
    "model.fit(X_train, y_train)\n",
    "predictions = model.predict(X_test)\n",
    "predictions_p = model.predict_proba(X_test)\n",
    "predictions_p = [{0: i[0], 1: i[1]} for i in predictions_p]\n",
    "predictions = [round(x) for x in predictions]\n",
    "print(f'AUC score: {roc_auc_score(predictions, y_test)}')\n",
    "print(f'Accuracy score: {accuracy_score(predictions, y_test)}')\n",
    "plot_roc_curve(pd.Series(y_test), predictions_p)\n",
    "plt.show()"
   ]
  },
  {
   "cell_type": "markdown",
   "metadata": {},
   "source": [
    "### xgboost"
   ]
  },
  {
   "cell_type": "code",
   "execution_count": 31,
   "metadata": {},
   "outputs": [
    {
     "name": "stdout",
     "output_type": "stream",
     "text": [
      "CPU times: user 256 µs, sys: 95 µs, total: 351 µs\n",
      "Wall time: 215 µs\n",
      "[23:36:15] WARNING: src/objective/regression_obj.cu:152: reg:linear is now deprecated in favor of reg:squarederror.\n"
     ]
    },
    {
     "name": "stderr",
     "output_type": "stream",
     "text": [
      "/opt/anaconda3/lib/python3.7/site-packages/xgboost/core.py:587: FutureWarning: Series.base is deprecated and will be removed in a future version\n",
      "  if getattr(data, 'base', None) is not None and \\\n"
     ]
    },
    {
     "name": "stdout",
     "output_type": "stream",
     "text": [
      "AUC score: 0.9248731522827908\n",
      "Accuracy score: 0.9261404779145547\n"
     ]
    },
    {
     "data": {
      "image/png": "[encoded data removed]",
      "text/plain": [
       "<Figure size 504x504 with 1 Axes>"
      ]
     },
     "metadata": {
      "needs_background": "light"
     },
     "output_type": "display_data"
    }
   ],
   "source": [
    "%time model = XGBRegressor(iterations=20)\n",
    "model.fit(X_train, y_train)\n",
    "predictions = model.predict(X_test)\n",
    "predictions_p = [{1: i, 0: 1 - i} for i in predictions]\n",
    "predictions = [round(x) for x in predictions]\n",
    "print(f'AUC score: {roc_auc_score(predictions, y_test)}')\n",
    "print(f'Accuracy score: {accuracy_score(predictions, y_test)}')\n",
    "plot_roc_curve(pd.Series(y_test), predictions_p)\n",
    "plt.show()"
   ]
  },
  {
   "cell_type": "markdown",
   "metadata": {},
   "source": [
    "## cancer"
   ]
  },
  {
   "cell_type": "code",
   "execution_count": 43,
   "metadata": {},
   "outputs": [],
   "source": [
    "X_train, X_test, y_train, y_test = train_test_split(X_cancer, y_cancer, test_size=0.3)"
   ]
  },
  {
   "cell_type": "markdown",
   "metadata": {},
   "source": [
    "### catboost"
   ]
  },
  {
   "cell_type": "code",
   "execution_count": 34,
   "metadata": {},
   "outputs": [
    {
     "name": "stdout",
     "output_type": "stream",
     "text": [
      "CPU times: user 508 µs, sys: 827 µs, total: 1.34 ms\n",
      "Wall time: 618 µs\n",
      "Learning rate set to 0.251212\n",
      "0:\tlearn: 0.4020967\ttotal: 6.19ms\tremaining: 118ms\n",
      "1:\tlearn: 0.2511374\ttotal: 10.9ms\tremaining: 97.9ms\n",
      "2:\tlearn: 0.1773526\ttotal: 15.7ms\tremaining: 88.7ms\n",
      "3:\tlearn: 0.1406739\ttotal: 20.1ms\tremaining: 80.5ms\n",
      "4:\tlearn: 0.1107711\ttotal: 24.9ms\tremaining: 74.7ms\n",
      "5:\tlearn: 0.0902121\ttotal: 30.5ms\tremaining: 71.2ms\n",
      "6:\tlearn: 0.0720188\ttotal: 36ms\tremaining: 66.9ms\n",
      "7:\tlearn: 0.0597563\ttotal: 40.8ms\tremaining: 61.2ms\n",
      "8:\tlearn: 0.0526207\ttotal: 44.8ms\tremaining: 54.7ms\n",
      "9:\tlearn: 0.0490574\ttotal: 48.5ms\tremaining: 48.5ms\n",
      "10:\tlearn: 0.0432093\ttotal: 52.2ms\tremaining: 42.7ms\n",
      "11:\tlearn: 0.0381767\ttotal: 56.3ms\tremaining: 37.5ms\n",
      "12:\tlearn: 0.0346950\ttotal: 60ms\tremaining: 32.3ms\n",
      "13:\tlearn: 0.0316719\ttotal: 63.6ms\tremaining: 27.3ms\n",
      "14:\tlearn: 0.0281718\ttotal: 67.2ms\tremaining: 22.4ms\n",
      "15:\tlearn: 0.0256446\ttotal: 70.8ms\tremaining: 17.7ms\n",
      "16:\tlearn: 0.0250685\ttotal: 74.5ms\tremaining: 13.1ms\n",
      "17:\tlearn: 0.0228321\ttotal: 78ms\tremaining: 8.67ms\n",
      "18:\tlearn: 0.0208288\ttotal: 81.6ms\tremaining: 4.3ms\n",
      "19:\tlearn: 0.0193127\ttotal: 85.3ms\tremaining: 0us\n",
      "AUC score: 0.9846153846153847\n",
      "Accuracy score: 0.9883040935672515\n"
     ]
    },
    {
     "data": {
      "image/png": "[encoded data removed]",
      "text/plain": [
       "<Figure size 504x504 with 1 Axes>"
      ]
     },
     "metadata": {
      "needs_background": "light"
     },
     "output_type": "display_data"
    }
   ],
   "source": [
    "%time model = CatBoostClassifier(iterations=20)\n",
    "model.fit(X_train, y_train)\n",
    "predictions = model.predict(X_test)\n",
    "predictions_p = model.predict_proba(X_test)\n",
    "predictions_p = [{0: i[0], 1: i[1]} for i in predictions_p]\n",
    "predictions = [round(x) for x in predictions]\n",
    "print(f'AUC score: {roc_auc_score(predictions, y_test)}')\n",
    "print(f'Accuracy score: {accuracy_score(predictions, y_test)}')\n",
    "plot_roc_curve(pd.Series(y_test), predictions_p)\n",
    "plt.show()"
   ]
  },
  {
   "cell_type": "markdown",
   "metadata": {},
   "source": [
    "### lightgbm"
   ]
  },
  {
   "cell_type": "code",
   "execution_count": 35,
   "metadata": {},
   "outputs": [
    {
     "name": "stdout",
     "output_type": "stream",
     "text": [
      "CPU times: user 132 µs, sys: 1e+03 ns, total: 133 µs\n",
      "Wall time: 136 µs\n",
      "AUC score: 0.9846153846153847\n",
      "Accuracy score: 0.9883040935672515\n"
     ]
    },
    {
     "data": {
      "image/png": "[encoded data removed]",
      "text/plain": [
       "<Figure size 504x504 with 1 Axes>"
      ]
     },
     "metadata": {
      "needs_background": "light"
     },
     "output_type": "display_data"
    }
   ],
   "source": [
    "%time model = lgb.LGBMClassifier()\n",
    "model.fit(X_train, y_train)\n",
    "predictions = model.predict(X_test)\n",
    "predictions_p = model.predict_proba(X_test)\n",
    "predictions_p = [{0: i[0], 1: i[1]} for i in predictions_p]\n",
    "predictions = [round(x) for x in predictions]\n",
    "print(f'AUC score: {roc_auc_score(predictions, y_test)}')\n",
    "print(f'Accuracy score: {accuracy_score(predictions, y_test)}')\n",
    "plot_roc_curve(pd.Series(y_test), predictions_p)\n",
    "plt.show()"
   ]
  },
  {
   "cell_type": "markdown",
   "metadata": {},
   "source": [
    "### xgboost"
   ]
  },
  {
   "cell_type": "code",
   "execution_count": 36,
   "metadata": {},
   "outputs": [
    {
     "name": "stdout",
     "output_type": "stream",
     "text": [
      "CPU times: user 492 µs, sys: 88 µs, total: 580 µs\n",
      "Wall time: 311 µs\n",
      "[23:39:26] WARNING: src/objective/regression_obj.cu:152: reg:linear is now deprecated in favor of reg:squarederror.\n",
      "AUC score: 0.9797021028037383\n",
      "Accuracy score: 0.9824561403508771\n"
     ]
    },
    {
     "name": "stderr",
     "output_type": "stream",
     "text": [
      "/opt/anaconda3/lib/python3.7/site-packages/xgboost/core.py:587: FutureWarning: Series.base is deprecated and will be removed in a future version\n",
      "  if getattr(data, 'base', None) is not None and \\\n"
     ]
    },
    {
     "data": {
      "image/png": "[encoded data removed]",
      "text/plain": [
       "<Figure size 504x504 with 1 Axes>"
      ]
     },
     "metadata": {
      "needs_background": "light"
     },
     "output_type": "display_data"
    }
   ],
   "source": [
    "%time model = XGBRegressor(iterations=20)\n",
    "model.fit(X_train, y_train)\n",
    "predictions = model.predict(X_test)\n",
    "predictions_p = [{1: i, 0: 1 - i} for i in predictions]\n",
    "predictions = [round(x) for x in predictions]\n",
    "print(f'AUC score: {roc_auc_score(predictions, y_test)}')\n",
    "print(f'Accuracy score: {accuracy_score(predictions, y_test)}')\n",
    "plot_roc_curve(pd.Series(y_test), predictions_p)\n",
    "plt.show()"
   ]
  },
  {
   "cell_type": "code",
   "execution_count": null,
   "metadata": {},
   "outputs": [],
   "source": []
  }
 ],
 "metadata": {
  "kernelspec": {
   "display_name": "Python 3",
   "language": "python",
   "name": "python3"
  },
  "language_info": {
   "codemirror_mode": {
    "name": "ipython",
    "version": 3
   },
   "file_extension": ".py",
   "mimetype": "text/x-python",
   "name": "python",
   "nbconvert_exporter": "python",
   "pygments_lexer": "ipython3",
   "version": "3.7.4"
  }
 },
 "nbformat": 4,
 "nbformat_minor": 2
}
